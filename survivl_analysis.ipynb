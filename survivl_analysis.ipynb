{
 "cells": [
  {
   "cell_type": "markdown",
   "metadata": {},
   "source": [
    "## Predicting Used Car Stock Retention: A Time-To-Event Approach"
   ]
  },
  {
   "cell_type": "code",
   "execution_count": null,
   "metadata": {},
   "outputs": [],
   "source": [
    "import numpy as np\n",
    "import pandas as pd \n",
    "import matplotlib.pyplot as plt \n",
    "import os\n",
    "from sklearn.model_selection import train_test_split, GridSearchCV, KFold\n",
    "from scipy import stats\n",
    "from IPython.display import display\n",
    "import seaborn as sns\n",
    "import plotly.graph_objects as go\n",
    "import matplotlib.pyplot as plt\n",
    "from sksurv.nonparametric import kaplan_meier_estimator\n",
    "from sksurv.preprocessing import OneHotEncoder\n",
    "from sksurv.linear_model import CoxPHSurvivalAnalysis, CoxnetSurvivalAnalysis\n",
    "from sksurv.util import Surv\n",
    "from sksurv.metrics import concordance_index_censored\n",
    "from sklearn.metrics import make_scorer\n",
    "from sklearn.feature_selection import SelectKBest\n",
    "from sklearn.pipeline import Pipeline\n",
    "from sklearn.preprocessing import StandardScaler\n",
    "import warnings\n",
    "from sklearn.exceptions import ConvergenceWarning\n",
    "from sklearn.pipeline import make_pipeline\n",
    "from sksurv.ensemble import RandomSurvivalForest, GradientBoostingSurvivalAnalysis\n",
    "import joblib\n"
   ]
  },
  {
   "cell_type": "markdown",
   "metadata": {},
   "source": [
    "### 1. Load the Data\n"
   ]
  },
  {
   "cell_type": "code",
   "execution_count": 3,
   "metadata": {},
   "outputs": [
    {
     "data": {
      "application/vnd.microsoft.datawrangler.viewer.v0+json": {
       "columns": [
        {
         "name": "index",
         "rawType": "int64",
         "type": "integer"
        },
        {
         "name": "Id",
         "rawType": "int64",
         "type": "integer"
        },
        {
         "name": "IsSold",
         "rawType": "int64",
         "type": "integer"
        },
        {
         "name": "WeeksOnStockBeforeSale",
         "rawType": "float64",
         "type": "float"
        },
        {
         "name": "onAction",
         "rawType": "int64",
         "type": "integer"
        },
        {
         "name": "SalesSeason",
         "rawType": "object",
         "type": "string"
        },
        {
         "name": "TotalPrice",
         "rawType": "float64",
         "type": "float"
        },
        {
         "name": "CarAgeYears",
         "rawType": "int64",
         "type": "integer"
        },
        {
         "name": "Kilometers",
         "rawType": "int64",
         "type": "integer"
        },
        {
         "name": "Kilowatts",
         "rawType": "int64",
         "type": "integer"
        },
        {
         "name": "Horsepower",
         "rawType": "int64",
         "type": "integer"
        },
        {
         "name": "Cars",
         "rawType": "object",
         "type": "string"
        },
        {
         "name": "EngineType",
         "rawType": "object",
         "type": "string"
        },
        {
         "name": "BodyType",
         "rawType": "object",
         "type": "string"
        },
        {
         "name": "TransmissionType",
         "rawType": "object",
         "type": "string"
        },
        {
         "name": "Color",
         "rawType": "object",
         "type": "string"
        },
        {
         "name": "NumberofDoors",
         "rawType": "object",
         "type": "string"
        },
        {
         "name": "Alarm",
         "rawType": "int64",
         "type": "integer"
        },
        {
         "name": "AlloyWheels17",
         "rawType": "int64",
         "type": "integer"
        },
        {
         "name": "ASR",
         "rawType": "int64",
         "type": "integer"
        },
        {
         "name": "AutomaticClimateControl",
         "rawType": "int64",
         "type": "integer"
        },
        {
         "name": "BiXenon",
         "rawType": "int64",
         "type": "integer"
        },
        {
         "name": "BluetoothConnection",
         "rawType": "int64",
         "type": "integer"
        },
        {
         "name": "RemoteLocking",
         "rawType": "int64",
         "type": "integer"
        },
        {
         "name": "ElectricWindows",
         "rawType": "int64",
         "type": "integer"
        },
        {
         "name": "ElectricFoldingMirrors",
         "rawType": "int64",
         "type": "integer"
        },
        {
         "name": "ElectricMirrorAdjustment",
         "rawType": "int64",
         "type": "integer"
        },
        {
         "name": "ESP",
         "rawType": "int64",
         "type": "integer"
        },
        {
         "name": "KeylessGo",
         "rawType": "int64",
         "type": "integer"
        },
        {
         "name": "LEDLights",
         "rawType": "int64",
         "type": "integer"
        },
        {
         "name": "SteeringWheelButtons",
         "rawType": "int64",
         "type": "integer"
        },
        {
         "name": "RearHeadrest",
         "rawType": "int64",
         "type": "integer"
        },
        {
         "name": "Armrest",
         "rawType": "int64",
         "type": "integer"
        },
        {
         "name": "Navigation",
         "rawType": "int64",
         "type": "integer"
        },
        {
         "name": "MobileDevicePreparation",
         "rawType": "int64",
         "type": "integer"
        },
        {
         "name": "TripComputer",
         "rawType": "int64",
         "type": "integer"
        },
        {
         "name": "RearParkingSensor",
         "rawType": "int64",
         "type": "integer"
        },
        {
         "name": "CruiseControl",
         "rawType": "int64",
         "type": "integer"
        },
        {
         "name": "Xenon",
         "rawType": "int64",
         "type": "integer"
        },
        {
         "name": "ChromePackage",
         "rawType": "int64",
         "type": "integer"
        },
        {
         "name": "FogLights",
         "rawType": "int64",
         "type": "integer"
        },
        {
         "name": "HeatedFrontSeats",
         "rawType": "int64",
         "type": "integer"
        },
        {
         "name": "FrontParkingSensor",
         "rawType": "int64",
         "type": "integer"
        },
        {
         "name": "AlloyWheels17.1",
         "rawType": "int64",
         "type": "integer"
        },
        {
         "name": "AlloyWheels19",
         "rawType": "int64",
         "type": "integer"
        },
        {
         "name": "ParkingCamera",
         "rawType": "int64",
         "type": "integer"
        },
        {
         "name": "PanoramicRoof",
         "rawType": "int64",
         "type": "integer"
        },
        {
         "name": "SlidingPanoramicRoof",
         "rawType": "int64",
         "type": "integer"
        },
        {
         "name": "AllWheelDrive",
         "rawType": "int64",
         "type": "integer"
        },
        {
         "name": "ManualAirConditioning",
         "rawType": "int64",
         "type": "integer"
        },
        {
         "name": "SideRollerBlinds",
         "rawType": "int64",
         "type": "integer"
        },
        {
         "name": "HeatedRearSeats",
         "rawType": "int64",
         "type": "integer"
        },
        {
         "name": "AlloyWheels19.1",
         "rawType": "int64",
         "type": "integer"
        },
        {
         "name": "ElectricSeatAdjustment",
         "rawType": "int64",
         "type": "integer"
        },
        {
         "name": "ElectricSunroof",
         "rawType": "int64",
         "type": "integer"
        },
        {
         "name": "SeatMemoryPackage",
         "rawType": "int64",
         "type": "integer"
        },
        {
         "name": "RearRollerBlind",
         "rawType": "int64",
         "type": "integer"
        },
        {
         "name": "CooledFrontSeats",
         "rawType": "int64",
         "type": "integer"
        },
        {
         "name": "HeadUpDisplay",
         "rawType": "int64",
         "type": "integer"
        },
        {
         "name": "ParkAssist",
         "rawType": "int64",
         "type": "integer"
        },
        {
         "name": "360ParkingCamera",
         "rawType": "int64",
         "type": "integer"
        },
        {
         "name": "AlloyWheels21",
         "rawType": "int64",
         "type": "integer"
        },
        {
         "name": "PassengerSeatMemoryPackage",
         "rawType": "int64",
         "type": "integer"
        },
        {
         "name": "AirSuspension",
         "rawType": "int64",
         "type": "integer"
        },
        {
         "name": "AlloyWheels22",
         "rawType": "int64",
         "type": "integer"
        },
        {
         "name": "AlloyWheels21.1",
         "rawType": "int64",
         "type": "integer"
        },
        {
         "name": "CooledRearSeats",
         "rawType": "int64",
         "type": "integer"
        },
        {
         "name": "FrontElectricWindows",
         "rawType": "int64",
         "type": "integer"
        },
        {
         "name": "AlloyWheels16",
         "rawType": "int64",
         "type": "integer"
        },
        {
         "name": "VirtualCockpit",
         "rawType": "int64",
         "type": "integer"
        },
        {
         "name": "Alcantara",
         "rawType": "int64",
         "type": "integer"
        },
        {
         "name": "LeatherAlcantara",
         "rawType": "int64",
         "type": "integer"
        },
        {
         "name": "Leather",
         "rawType": "int64",
         "type": "integer"
        },
        {
         "name": "Fabric",
         "rawType": "int64",
         "type": "integer"
        },
        {
         "name": "LeatherFabric",
         "rawType": "int64",
         "type": "integer"
        }
       ],
       "conversionMethod": "pd.DataFrame",
       "ref": "cf595bd4-539f-421e-9e1d-d3a944941dae",
       "rows": [
        [
         "0",
         "1001",
         "1",
         "4.14",
         "1",
         "Winter",
         "17431.0",
         "4",
         "148947",
         "81",
         "110",
         "Audi_A3",
         "Diesel",
         "Sedan",
         "Manual_6_speed",
         "Black metallic",
         "doors_4_5",
         "1",
         "1",
         "1",
         "1",
         "1",
         "1",
         "1",
         "1",
         "1",
         "1",
         "1",
         "1",
         "1",
         "1",
         "1",
         "1",
         "1",
         "1",
         "1",
         "1",
         "1",
         "1",
         "0",
         "0",
         "0",
         "0",
         "0",
         "0",
         "0",
         "0",
         "0",
         "0",
         "0",
         "0",
         "0",
         "0",
         "0",
         "0",
         "0",
         "0",
         "0",
         "0",
         "0",
         "0",
         "0",
         "0",
         "0",
         "0",
         "0",
         "0",
         "0",
         "0",
         "0",
         "0",
         "0",
         "0",
         "1",
         "0"
        ],
        [
         "1",
         "1003",
         "1",
         "2.14",
         "0",
         "Winter",
         "14867.0",
         "6",
         "109773",
         "81",
         "110",
         "Audi_A3",
         "Diesel",
         "Sedan",
         "Manual_6_speed",
         "Black metallic",
         "doors_4_5",
         "1",
         "1",
         "1",
         "1",
         "0",
         "1",
         "1",
         "1",
         "0",
         "1",
         "1",
         "0",
         "0",
         "1",
         "1",
         "1",
         "1",
         "1",
         "1",
         "1",
         "1",
         "0",
         "1",
         "1",
         "0",
         "0",
         "0",
         "0",
         "0",
         "0",
         "0",
         "0",
         "0",
         "0",
         "0",
         "0",
         "0",
         "0",
         "0",
         "0",
         "0",
         "0",
         "0",
         "0",
         "0",
         "0",
         "0",
         "0",
         "0",
         "0",
         "0",
         "0",
         "0",
         "0",
         "0",
         "0",
         "0",
         "1"
        ],
        [
         "2",
         "1005",
         "1",
         "6.14",
         "0",
         "Winter",
         "14354.0",
         "6",
         "159895",
         "81",
         "110",
         "Audi_A3",
         "Diesel",
         "Sedan",
         "Manual_6_speed",
         "Black metallic",
         "doors_4_5",
         "1",
         "1",
         "1",
         "1",
         "1",
         "1",
         "1",
         "1",
         "1",
         "1",
         "1",
         "0",
         "1",
         "1",
         "1",
         "1",
         "1",
         "1",
         "1",
         "1",
         "1",
         "1",
         "0",
         "1",
         "1",
         "1",
         "0",
         "0",
         "0",
         "0",
         "0",
         "0",
         "0",
         "0",
         "0",
         "0",
         "0",
         "0",
         "0",
         "0",
         "0",
         "0",
         "0",
         "0",
         "0",
         "0",
         "0",
         "0",
         "0",
         "0",
         "0",
         "0",
         "0",
         "0",
         "0",
         "1",
         "0",
         "0"
        ],
        [
         "3",
         "1007",
         "1",
         "5.14",
         "0",
         "Winter",
         "15379.0",
         "5",
         "154958",
         "81",
         "110",
         "Audi_A3",
         "Diesel",
         "Sedan",
         "Automatic",
         "Silver metallic",
         "doors_4_5",
         "1",
         "1",
         "1",
         "1",
         "0",
         "1",
         "1",
         "1",
         "0",
         "1",
         "1",
         "0",
         "0",
         "1",
         "1",
         "1",
         "1",
         "1",
         "1",
         "1",
         "1",
         "0",
         "1",
         "1",
         "0",
         "0",
         "0",
         "0",
         "0",
         "0",
         "0",
         "0",
         "0",
         "0",
         "0",
         "0",
         "0",
         "0",
         "0",
         "0",
         "0",
         "0",
         "0",
         "0",
         "0",
         "0",
         "0",
         "0",
         "0",
         "0",
         "0",
         "0",
         "0",
         "0",
         "0",
         "0",
         "1",
         "0"
        ],
        [
         "4",
         "1009",
         "1",
         "5.14",
         "0",
         "Winter",
         "15379.0",
         "4",
         "155312",
         "81",
         "110",
         "Audi_A3",
         "Diesel",
         "Sedan",
         "Automatic",
         "Grey metallic",
         "doors_4_5",
         "1",
         "1",
         "1",
         "1",
         "0",
         "1",
         "1",
         "1",
         "0",
         "1",
         "1",
         "0",
         "0",
         "1",
         "1",
         "1",
         "1",
         "1",
         "1",
         "1",
         "1",
         "0",
         "0",
         "0",
         "0",
         "0",
         "0",
         "0",
         "0",
         "0",
         "0",
         "0",
         "0",
         "0",
         "0",
         "0",
         "0",
         "0",
         "0",
         "0",
         "0",
         "0",
         "0",
         "0",
         "0",
         "0",
         "0",
         "0",
         "0",
         "0",
         "0",
         "0",
         "0",
         "0",
         "0",
         "0",
         "1",
         "0"
        ]
       ],
       "shape": {
        "columns": 74,
        "rows": 5
       }
      },
      "text/html": [
       "<div>\n",
       "<style scoped>\n",
       "    .dataframe tbody tr th:only-of-type {\n",
       "        vertical-align: middle;\n",
       "    }\n",
       "\n",
       "    .dataframe tbody tr th {\n",
       "        vertical-align: top;\n",
       "    }\n",
       "\n",
       "    .dataframe thead th {\n",
       "        text-align: right;\n",
       "    }\n",
       "</style>\n",
       "<table border=\"1\" class=\"dataframe\">\n",
       "  <thead>\n",
       "    <tr style=\"text-align: right;\">\n",
       "      <th></th>\n",
       "      <th>Id</th>\n",
       "      <th>IsSold</th>\n",
       "      <th>WeeksOnStockBeforeSale</th>\n",
       "      <th>onAction</th>\n",
       "      <th>SalesSeason</th>\n",
       "      <th>TotalPrice</th>\n",
       "      <th>CarAgeYears</th>\n",
       "      <th>Kilometers</th>\n",
       "      <th>Kilowatts</th>\n",
       "      <th>Horsepower</th>\n",
       "      <th>...</th>\n",
       "      <th>AlloyWheels21.1</th>\n",
       "      <th>CooledRearSeats</th>\n",
       "      <th>FrontElectricWindows</th>\n",
       "      <th>AlloyWheels16</th>\n",
       "      <th>VirtualCockpit</th>\n",
       "      <th>Alcantara</th>\n",
       "      <th>LeatherAlcantara</th>\n",
       "      <th>Leather</th>\n",
       "      <th>Fabric</th>\n",
       "      <th>LeatherFabric</th>\n",
       "    </tr>\n",
       "  </thead>\n",
       "  <tbody>\n",
       "    <tr>\n",
       "      <th>0</th>\n",
       "      <td>1001</td>\n",
       "      <td>1</td>\n",
       "      <td>4.14</td>\n",
       "      <td>1</td>\n",
       "      <td>Winter</td>\n",
       "      <td>17431.0</td>\n",
       "      <td>4</td>\n",
       "      <td>148947</td>\n",
       "      <td>81</td>\n",
       "      <td>110</td>\n",
       "      <td>...</td>\n",
       "      <td>0</td>\n",
       "      <td>0</td>\n",
       "      <td>0</td>\n",
       "      <td>0</td>\n",
       "      <td>0</td>\n",
       "      <td>0</td>\n",
       "      <td>0</td>\n",
       "      <td>0</td>\n",
       "      <td>1</td>\n",
       "      <td>0</td>\n",
       "    </tr>\n",
       "    <tr>\n",
       "      <th>1</th>\n",
       "      <td>1003</td>\n",
       "      <td>1</td>\n",
       "      <td>2.14</td>\n",
       "      <td>0</td>\n",
       "      <td>Winter</td>\n",
       "      <td>14867.0</td>\n",
       "      <td>6</td>\n",
       "      <td>109773</td>\n",
       "      <td>81</td>\n",
       "      <td>110</td>\n",
       "      <td>...</td>\n",
       "      <td>0</td>\n",
       "      <td>0</td>\n",
       "      <td>0</td>\n",
       "      <td>0</td>\n",
       "      <td>0</td>\n",
       "      <td>0</td>\n",
       "      <td>0</td>\n",
       "      <td>0</td>\n",
       "      <td>0</td>\n",
       "      <td>1</td>\n",
       "    </tr>\n",
       "    <tr>\n",
       "      <th>2</th>\n",
       "      <td>1005</td>\n",
       "      <td>1</td>\n",
       "      <td>6.14</td>\n",
       "      <td>0</td>\n",
       "      <td>Winter</td>\n",
       "      <td>14354.0</td>\n",
       "      <td>6</td>\n",
       "      <td>159895</td>\n",
       "      <td>81</td>\n",
       "      <td>110</td>\n",
       "      <td>...</td>\n",
       "      <td>0</td>\n",
       "      <td>0</td>\n",
       "      <td>0</td>\n",
       "      <td>0</td>\n",
       "      <td>0</td>\n",
       "      <td>0</td>\n",
       "      <td>0</td>\n",
       "      <td>1</td>\n",
       "      <td>0</td>\n",
       "      <td>0</td>\n",
       "    </tr>\n",
       "    <tr>\n",
       "      <th>3</th>\n",
       "      <td>1007</td>\n",
       "      <td>1</td>\n",
       "      <td>5.14</td>\n",
       "      <td>0</td>\n",
       "      <td>Winter</td>\n",
       "      <td>15379.0</td>\n",
       "      <td>5</td>\n",
       "      <td>154958</td>\n",
       "      <td>81</td>\n",
       "      <td>110</td>\n",
       "      <td>...</td>\n",
       "      <td>0</td>\n",
       "      <td>0</td>\n",
       "      <td>0</td>\n",
       "      <td>0</td>\n",
       "      <td>0</td>\n",
       "      <td>0</td>\n",
       "      <td>0</td>\n",
       "      <td>0</td>\n",
       "      <td>1</td>\n",
       "      <td>0</td>\n",
       "    </tr>\n",
       "    <tr>\n",
       "      <th>4</th>\n",
       "      <td>1009</td>\n",
       "      <td>1</td>\n",
       "      <td>5.14</td>\n",
       "      <td>0</td>\n",
       "      <td>Winter</td>\n",
       "      <td>15379.0</td>\n",
       "      <td>4</td>\n",
       "      <td>155312</td>\n",
       "      <td>81</td>\n",
       "      <td>110</td>\n",
       "      <td>...</td>\n",
       "      <td>0</td>\n",
       "      <td>0</td>\n",
       "      <td>0</td>\n",
       "      <td>0</td>\n",
       "      <td>0</td>\n",
       "      <td>0</td>\n",
       "      <td>0</td>\n",
       "      <td>0</td>\n",
       "      <td>1</td>\n",
       "      <td>0</td>\n",
       "    </tr>\n",
       "  </tbody>\n",
       "</table>\n",
       "<p>5 rows × 74 columns</p>\n",
       "</div>"
      ],
      "text/plain": [
       "     Id  IsSold  WeeksOnStockBeforeSale  onAction SalesSeason  TotalPrice   \n",
       "0  1001       1                    4.14         1      Winter     17431.0  \\\n",
       "1  1003       1                    2.14         0      Winter     14867.0   \n",
       "2  1005       1                    6.14         0      Winter     14354.0   \n",
       "3  1007       1                    5.14         0      Winter     15379.0   \n",
       "4  1009       1                    5.14         0      Winter     15379.0   \n",
       "\n",
       "   CarAgeYears  Kilometers  Kilowatts  Horsepower  ... AlloyWheels21.1   \n",
       "0            4      148947         81         110  ...               0  \\\n",
       "1            6      109773         81         110  ...               0   \n",
       "2            6      159895         81         110  ...               0   \n",
       "3            5      154958         81         110  ...               0   \n",
       "4            4      155312         81         110  ...               0   \n",
       "\n",
       "  CooledRearSeats FrontElectricWindows AlloyWheels16 VirtualCockpit Alcantara   \n",
       "0               0                    0             0              0         0  \\\n",
       "1               0                    0             0              0         0   \n",
       "2               0                    0             0              0         0   \n",
       "3               0                    0             0              0         0   \n",
       "4               0                    0             0              0         0   \n",
       "\n",
       "   LeatherAlcantara  Leather  Fabric  LeatherFabric  \n",
       "0                 0        0       1              0  \n",
       "1                 0        0       0              1  \n",
       "2                 0        1       0              0  \n",
       "3                 0        0       1              0  \n",
       "4                 0        0       1              0  \n",
       "\n",
       "[5 rows x 74 columns]"
      ]
     },
     "execution_count": 3,
     "metadata": {},
     "output_type": "execute_result"
    }
   ],
   "source": [
    "DATA_PATH = \"D:/MyData/Data Science Mladen/MyGitHubProjects/survivl_analysis/carsdata.csv\"\n",
    "data = pd.read_csv(DATA_PATH)\n",
    "data.head()"
   ]
  },
  {
   "cell_type": "markdown",
   "metadata": {},
   "source": [
    "### 2. Exploratory Data Analysis"
   ]
  },
  {
   "cell_type": "markdown",
   "metadata": {},
   "source": [
    "2.1. Descriptive Statistics "
   ]
  },
  {
   "cell_type": "code",
   "execution_count": null,
   "metadata": {},
   "outputs": [],
   "source": [
    "# Missing data in dataset\n",
    "total = data.isnull().sum().sort_values(ascending=False)\n",
    "percent = (data.isnull().sum() / data.isnull().count() * 100).sort_values(ascending=False)\n",
    "missing_data = pd.concat([total, percent], axis=1, keys=[\"Total\", \"Percent\"])\n",
    "\n",
    "# Selects all binary numerical columns (containing only 0 and 1)\n",
    "binary_cols = [col for col in data.select_dtypes(include=[np.number]).columns if data[col].dropna().isin([0, 1]).all()]\n",
    "# Converting binary to categorical data\n",
    "data[binary_cols] = data[binary_cols].astype(\"category\")\n",
    "\n",
    "# Selects all numerical columns (int and float)\n",
    "numerical_variables = data.select_dtypes(include=[np.number])\n",
    "# Selects all non-numerical (categorical) columns\n",
    "categorical_variables = data.select_dtypes(exclude=[np.number])\n",
    "\n",
    "# Generates summary statistics for categorical and numerical variables\n",
    "describe_numerical = numerical_variables.describe().transpose()\n",
    "describe_categorical =categorical_variables.describe().transpose()"
   ]
  },
  {
   "cell_type": "markdown",
   "metadata": {},
   "source": [
    "2.2. Pearson Correlation - Heatmap"
   ]
  },
  {
   "cell_type": "code",
   "execution_count": 5,
   "metadata": {},
   "outputs": [
    {
     "data": {
      "image/png": "[encoded data removed]",
      "text/plain": [
       "<Figure size 1700x1500 with 2 Axes>"
      ]
     },
     "metadata": {},
     "output_type": "display_data"
    }
   ],
   "source": [
    "# Remove the ID column\n",
    "numeric_variables = numerical_variables.iloc[:, 1:]\n",
    "\n",
    "# Pearson correlation\n",
    "corr = numeric_variables.corr(method=\"pearson\")\n",
    "\n",
    "# Generate a mask for the upper triangle of the correlation matrix\n",
    "mask = np.triu(np.ones_like(corr, dtype=bool))  \n",
    "\n",
    "# Set figure size\n",
    "f, ax = plt.subplots(figsize=(17, 15))\n",
    "\n",
    "# Define a custom diverging color palette\n",
    "cmap = sns.diverging_palette(220, 10, as_cmap=True)\n",
    "\n",
    "# Plot the correlation heatmap\n",
    "sns.heatmap(corr, mask=mask, cmap=cmap, vmax=1, center=0, annot=True, \n",
    "            square=True, linewidths=.5, cbar_kws={\"shrink\": .5})\n",
    "\n",
    "plt.title(\"Pearson Correlation - Heatmap\")\n",
    "plt.show()"
   ]
  },
  {
   "cell_type": "markdown",
   "metadata": {},
   "source": [
    "2.3. Correlation between \"Horsepower\" and \"Price\" - Scatter Plot"
   ]
  },
  {
   "cell_type": "code",
   "execution_count": 6,
   "metadata": {},
   "outputs": [
    {
     "data": {
      "image/png": "[encoded data removed]",
      "text/plain": [
       "<Figure size 1400x700 with 2 Axes>"
      ]
     },
     "metadata": {},
     "output_type": "display_data"
    }
   ],
   "source": [
    "# Create a figure with two subplots  \n",
    "fig = plt.figure(figsize=(14, 7))\n",
    "\n",
    "# First subplot (scatter plot with regression line)  \n",
    "ax1 = fig.add_subplot(121)\n",
    "sns.regplot(x=\"Horsepower\", y=\"TotalPrice\", data=data, ax=ax1)  \n",
    "ax1.set_title(\"Correlation between Horsepower and Price\")\n",
    "\n",
    "# Second subplot (text only)  \n",
    "ax2 = fig.add_subplot(122)\n",
    "ax2.axis(\"off\")  # Disable axes\n",
    "ax2.text(x=0.5, y=0.5, s=f\"Correlation: {data.Horsepower.corr(data['TotalPrice']):.4f}\", \n",
    "         fontsize=12, ha=\"center\", va=\"center\")\n",
    "\n",
    "plt.show()"
   ]
  },
  {
   "cell_type": "markdown",
   "metadata": {},
   "source": [
    "2.4. Estimated Probability of Stock Retention (Kaplan-Meier Estimator – The Survival Function)"
   ]
  },
  {
   "cell_type": "code",
   "execution_count": 7,
   "metadata": {},
   "outputs": [
    {
     "data": {
      "image/png": "[encoded data removed]",
      "text/plain": [
       "<Figure size 800x500 with 1 Axes>"
      ]
     },
     "metadata": {},
     "output_type": "display_data"
    }
   ],
   "source": [
    "# Convert \"IsSold\" column to boolean type\n",
    "data[\"IsSold\"] = data[\"IsSold\"].astype(\"bool\")\n",
    "\n",
    "# Compute the Kaplan-Meier survival estimate\n",
    "time, survival_prob = kaplan_meier_estimator(data[\"IsSold\"], \n",
    "                                             data[\"WeeksOnStockBeforeSale\"])\n",
    "\n",
    "# Apply a pastel style\n",
    "sns.set_style(\"whitegrid\")  \n",
    "plt.figure(figsize=(8, 5)) \n",
    "\n",
    "# Plot the survival function\n",
    "plt.step(time, survival_prob, where=\"post\", \n",
    "         color=\"lightcoral\", linewidth=2)\n",
    "\n",
    "# Set labels\n",
    "plt.ylabel(r\"Estimated Probability of Stock Retention $\\hat{S}(t)$\", \n",
    "           fontsize=12)\n",
    "plt.xlabel(r\"Time $t$ (weeks)\", \n",
    "           fontsize=12)\n",
    "\n",
    "# Adjust tick parameters\n",
    "plt.xticks(fontsize=10)\n",
    "plt.yticks(fontsize=10)\n",
    "\n",
    "# Remove top and right borders\n",
    "sns.despine()\n",
    "\n",
    "# Show the plot\n",
    "plt.show()\n"
   ]
  },
  {
   "cell_type": "markdown",
   "metadata": {},
   "source": [
    "2.5. Differences in stock retention between vehicle body types    (Kaplan-Meier Estimator – The Survival Function)"
   ]
  },
  {
   "cell_type": "code",
   "execution_count": 8,
   "metadata": {},
   "outputs": [
    {
     "data": {
      "image/png": "[encoded data removed]",
      "text/plain": [
       "<Figure size 900x600 with 1 Axes>"
      ]
     },
     "metadata": {},
     "output_type": "display_data"
    }
   ],
   "source": [
    "# Apply a style\n",
    "sns.set_style(\"whitegrid\")\n",
    "plt.figure(figsize=(9, 6)) \n",
    "\n",
    "# Define a color palette\n",
    "colors = sns.color_palette(\"pastel\", 7)\n",
    "\n",
    "# Loop through each vehicle body type and plot its Kaplan-Meier survival curve\n",
    "for i, body_type in enumerate((\"Crossover\", \"Wagon\", \"Van\", \"Sedan\",\n",
    "                               \"Small car\", \"Minivan\", \"SUV\")):                      \n",
    "    # Create a mask to filter data for the current body type\n",
    "    mask_body_type = data[\"BodyType\"] == body_type\n",
    "    \n",
    "    # Compute the Kaplan-Meier survival estimate for the current body type\n",
    "    time_body_type, survival_prob_body_type = kaplan_meier_estimator(\n",
    "        data[\"IsSold\"][mask_body_type],\n",
    "        data[\"WeeksOnStockBeforeSale\"][mask_body_type])\n",
    "    \n",
    "    # Plot the survival function\n",
    "    plt.step(time_body_type, survival_prob_body_type, where=\"post\",\n",
    "             label=f\"Body Type: {body_type}\", color=colors[i], linewidth=2)\n",
    "\n",
    "# Set axis labels\n",
    "plt.ylabel(r\"Estimated Probability of Stock Retention $\\hat{S}(t)$\", fontsize=12)\n",
    "plt.xlabel(r\"Time $t$ (weeks)\", fontsize=12)\n",
    "\n",
    "# Add a legend\n",
    "plt.legend(loc=\"best\", fontsize=10, frameon=True, shadow=True)\n",
    "\n",
    "# Remove unnecessary chart borders\n",
    "sns.despine()\n",
    "\n",
    "# Display the plot\n",
    "plt.show()\n"
   ]
  },
  {
   "cell_type": "markdown",
   "metadata": {},
   "source": [
    "2.6. Differences in stock retention between vehicle engine types    (Kaplan-Meier Estimator – The Survival Function)"
   ]
  },
  {
   "cell_type": "code",
   "execution_count": 9,
   "metadata": {},
   "outputs": [
    {
     "data": {
      "image/png": "[encoded data removed]",
      "text/plain": [
       "<Figure size 900x600 with 1 Axes>"
      ]
     },
     "metadata": {},
     "output_type": "display_data"
    }
   ],
   "source": [
    "# Apply a style\n",
    "sns.set_style(\"whitegrid\")\n",
    "plt.figure(figsize=(9, 6)) \n",
    "\n",
    "# Define a color palette\n",
    "colors = sns.color_palette(\"pastel\", len(data[\"EngineType\"].unique()))\n",
    "\n",
    "# Loop through each unique engine type and plot its Kaplan-Meier survival curve\n",
    "for i, value in enumerate(data[\"EngineType\"].unique()):    \n",
    "    # Create a mask to filter data for the current engine type\n",
    "    mask = data[\"EngineType\"] == value\n",
    "\n",
    "    # Compute the Kaplan-Meier survival estimate for the current engine type\n",
    "    time_engine_type, survival_prob_engine_type = kaplan_meier_estimator(\n",
    "        data[\"IsSold\"][mask], data[\"WeeksOnStockBeforeSale\"][mask])\n",
    "\n",
    "    # Plot the survival function\n",
    "    plt.step(time_engine_type, survival_prob_engine_type, where=\"post\",\n",
    "             label=f\"{value} (n = {mask.sum()})\", color=colors[i], linewidth=2)\n",
    "\n",
    "# Set axis labels\n",
    "plt.ylabel(r\"Estimated Probability of Stock Retention $\\hat{S}(t)$\", fontsize=12)\n",
    "plt.xlabel(r\"Time $t$ (weeks)\", fontsize=12)\n",
    "\n",
    "# Add a legend\n",
    "plt.legend(loc=\"best\", fontsize=10, frameon=True, shadow=True)\n",
    "\n",
    "# Remove unnecessary chart borders\n",
    "sns.despine()\n",
    "\n",
    "# Display the plot\n",
    "plt.show()"
   ]
  },
  {
   "cell_type": "markdown",
   "metadata": {},
   "source": [
    "2.7. Differences in stock retention across seasons - spring, summer, fall, winter  (Kaplan-Meier Estimator – The Survival Function)"
   ]
  },
  {
   "cell_type": "code",
   "execution_count": 11,
   "metadata": {},
   "outputs": [
    {
     "data": {
      "image/png": "[encoded data removed]",
      "text/plain": [
       "<Figure size 900x600 with 1 Axes>"
      ]
     },
     "metadata": {},
     "output_type": "display_data"
    }
   ],
   "source": [
    "# Apply a style\n",
    "sns.set_style(\"whitegrid\")\n",
    "plt.figure(figsize=(9, 6))  \n",
    "\n",
    "# Define a color palette for different seasons\n",
    "colors = sns.color_palette(\"pastel\", 4)\n",
    "\n",
    "# Loop through each season and plot its Kaplan-Meier survival curve\n",
    "for i, season in enumerate((\"Winter\", \"Spring\", \"Summer\", \"Fall\")):               \n",
    "    # Create a mask to filter data for the current season\n",
    "    mask_season = data[\"SalesSeason\"] == season\n",
    "\n",
    "    # Compute the Kaplan-Meier survival estimate for the current season\n",
    "    time_season, survival_prob_season = kaplan_meier_estimator(\n",
    "        data[\"IsSold\"][mask_season],\n",
    "        data[\"WeeksOnStockBeforeSale\"][mask_season])\n",
    "\n",
    "    # Plot the survival function\n",
    "    plt.step(time_season, survival_prob_season, where=\"post\",\n",
    "             label=season, color=colors[i], linewidth=2)\n",
    "\n",
    "# Set axis labels\n",
    "plt.ylabel(r\"Estimated Probability of Stock Retention $\\hat{S}(t)$\", fontsize=12)\n",
    "plt.xlabel(r\"Time $t$ (weeks)\", fontsize=12)\n",
    "\n",
    "# Add a legend\n",
    "plt.legend(loc=\"best\", fontsize=10, frameon=True, shadow=True, title=\"Season\")\n",
    "\n",
    "# Remove unnecessary chart borders\n",
    "sns.despine()\n",
    "\n",
    "# Display the plot\n",
    "plt.show()"
   ]
  },
  {
   "cell_type": "markdown",
   "metadata": {},
   "source": [
    "### 3. Data Preprocessing & Feature Engineering"
   ]
  },
  {
   "cell_type": "code",
   "execution_count": null,
   "metadata": {},
   "outputs": [],
   "source": [
    "\n",
    "# Fill missing values in TotalPrice based on Cars and CarAgeGroup\n",
    "data[\"TotalPrice\"] = data.groupby([\"Cars\"])[\"TotalPrice\"].transform(lambda x: x.fillna(x.mean()))\n",
    "\n",
    "# Filling NaN values for 3 car types that had no price data\n",
    "data[\"TotalPrice\"].fillna(data[\"TotalPrice\"].mean(), inplace=True)  \n",
    "\n",
    "# Convert categorical columns to the \"category\" data type\n",
    "for col in [\"SalesSeason\",\"Cars\", \"EngineType\", \"BodyType\", \n",
    "            \"TransmissionType\",\"Color\",\"NumberofDoors\"]:\n",
    "    data[col] = data[col].astype(\"category\")\n",
    "\n",
    "# Find the column index of \"Alarm\"\n",
    "loc = data.columns.get_loc(\"Alarm\")\n",
    "\n",
    "# Convert all columns from \"Alarm\" onward to boolean type\n",
    "for col in data.iloc[:,loc:]:                 \n",
    "    data[col] = data[col].astype(\"bool\")\n",
    "\n",
    "# Convert \"onAction\" to boolean\n",
    "data[\"onAction\"] = data[\"onAction\"].astype(\"bool\")\n",
    "\n",
    "# Store data types for reference\n",
    "types = data.dtypes\n",
    "\n",
    "# Select categorical columns for encoding\n",
    "selected_columns = data[[\"SalesSeason\",\"Cars\", \"EngineType\", \"BodyType\", \n",
    "                      \"TransmissionType\",\"Color\",\"NumberofDoors\"]]\n",
    "\n",
    "# Apply one-hot encoding to categorical variables\n",
    "onehot_encoded_data  = OneHotEncoder().fit_transform(selected_columns)\n",
    "#onehot_encoded_data = onehot_encoded_data.astype(\"bool\")\n",
    "\n",
    "# Fill missing values in one-hot encoded columns\n",
    "onehot_encoded_data[[\"SalesSeason=Spring\", \n",
    "                     \"SalesSeason=Summer\", \n",
    "                     \"SalesSeason=Winter\"]] = onehot_encoded_data[[\"SalesSeason=Spring\", \n",
    "                                                                   \"SalesSeason=Summer\", \n",
    "                                                                   \"SalesSeason=Winter\"]].fillna(0)\n",
    "\n",
    "onehot_encoded_data = onehot_encoded_data.astype(int)\n",
    "\n",
    "# Add the encoded columns to the original dataset\n",
    "data = data.join(onehot_encoded_data)\n",
    "\n",
    "# Remove the original categorical columns and the \"Id\" column\n",
    "data.drop(columns=[\"Id\",\"SalesSeason\",\"Cars\", \"EngineType\", \"BodyType\", \n",
    "                      \"TransmissionType\",\"Color\",\"NumberofDoors\"], inplace=True)\n",
    "\n",
    "# Convert boolean columns to integer type\n",
    "bool_columns = data.select_dtypes(include=['bool']).columns\n",
    "data[bool_columns] = data[bool_columns].astype(int)\n",
    "\n",
    "\n",
    "# Create target variable (Y) for survival analysis\n",
    "data_y = data[[\"IsSold\", \"WeeksOnStockBeforeSale\"]]\n",
    "data_y = Surv.from_dataframe(\"IsSold\", \"WeeksOnStockBeforeSale\", data_y)\n",
    "\n",
    "# Create feature set (X) by removing target variables\n",
    "data_x = data.drop([\"IsSold\", \"WeeksOnStockBeforeSale\"], axis=1).copy()\n",
    "\n",
    "# Standardize numerical columns using Z-score normalization\n",
    "for column in [\"TotalPrice\", \"CarAgeYears\",\"Kilometers\",\"Kilowatts\",\"Horsepower\"]:\n",
    "    data_x[column]= (data_x[column] - data_x[column].mean()) / data_x[column].std()\n",
    "\n",
    "# Remove \"Kilowatts\" due to high correlation with \"Horsepower\"\n",
    "data_x = data_x.drop(['Kilowatts'], axis=1).copy()\n"
   ]
  },
  {
   "cell_type": "markdown",
   "metadata": {},
   "source": [
    "### 4. Hyperparameter Tuning, Model Training & Selection"
   ]
  },
  {
   "cell_type": "code",
   "execution_count": null,
   "metadata": {},
   "outputs": [
    {
     "name": "stdout",
     "output_type": "stream",
     "text": [
      "Cox Proportional Hazards Best Score: 0.8379\n",
      "Random Survival Forest Best Score: 0.8367\n",
      "Gradient-Boosted Cox Best Score: 0.8464\n",
      "Best model: Gradient-Boosted Cox with score 0.8464\n"
     ]
    },
    {
     "data": {
      "text/plain": [
       "['best_survival_model.pkl']"
      ]
     },
     "execution_count": 13,
     "metadata": {},
     "output_type": "execute_result"
    }
   ],
   "source": [
    "warnings.simplefilter(\"ignore\", ConvergenceWarning)\n",
    "\n",
    "# Split data into train and test\n",
    "random_state = 20\n",
    "X_train, X_test, y_train, y_test = train_test_split(\n",
    "    data_x, data_y, test_size=0.2, random_state=random_state)\n",
    "\n",
    "y_train = np.array(y_train, dtype=[(\"Status\", \"?\"), (\"Time\", \"<f8\")])\n",
    "y_test = np.array(y_test, dtype=[(\"Status\", \"?\"), (\"Time\", \"<f8\")])\n",
    "\n",
    "# Cox Proportional Hazards Hyperparameters\n",
    "param_grid_cox = {'coxphsurvivalanalysis__alpha': [0.01, 0.1, 1, 10, 100],\n",
    "                  'coxphsurvivalanalysis__ties': [\"breslow\", \"efron\"]\n",
    "                  }\n",
    "\n",
    "# Random survival forest Hyperparameters\n",
    "param_grid_rsf = {\n",
    "    'randomsurvivalforest__n_estimators': [100, 300, 500, 700],\n",
    "    'randomsurvivalforest__min_samples_split': [2, 5, 10, 20],\n",
    "    'randomsurvivalforest__min_samples_leaf': [1, 5, 10, 20],\n",
    "    'randomsurvivalforest__max_depth': [None, 10, 20, 30] \n",
    "    }\n",
    "\n",
    "# Gradient-boosted Hyperparameters\n",
    "param_grid_gbcox = {\n",
    "    'gradientboostingsurvivalanalysis__learning_rate': [0.001, 0.01, 0.1, 0.2],\n",
    "    'gradientboostingsurvivalanalysis__n_estimators': [100, 300, 500],\n",
    "    'gradientboostingsurvivalanalysis__max_depth': [3, 5, 7, 9],\n",
    "    'gradientboostingsurvivalanalysis__dropout_rate': [0.0, 0.1, 0.2, 0.3] \n",
    "    }\n",
    "\n",
    "# Function that computes the concordance index\n",
    "def c_index_scorer(estimator, X, y):\n",
    "    return concordance_index_censored(y[\"Status\"], y[\"Time\"], estimator.predict(X))[0]\n",
    "\n",
    "\n",
    "# Define cross-validation strategy\n",
    "cv = KFold(n_splits=4, shuffle=True, random_state=0)\n",
    "\n",
    "# Define pipelines for each model\n",
    "cox_pipe = make_pipeline(CoxPHSurvivalAnalysis())\n",
    "rsf_pipe = make_pipeline(RandomSurvivalForest(random_state=random_state, n_jobs=-1))\n",
    "gbcox_pipe = make_pipeline(GradientBoostingSurvivalAnalysis(random_state=random_state))\n",
    "\n",
    "\n",
    "# Perform Grid Search for each model\n",
    "cox_search = GridSearchCV(cox_pipe, param_grid_cox, cv=cv, scoring=c_index_scorer, n_jobs=-1)\n",
    "rsf_search = GridSearchCV(rsf_pipe, param_grid_rsf, cv=cv, scoring=c_index_scorer, n_jobs=-1)\n",
    "gbcox_search = GridSearchCV(gbcox_pipe, param_grid_gbcox, cv=cv, scoring=c_index_scorer, n_jobs=-1)\n",
    "\n",
    "\n",
    "# Fit models\n",
    "cox_search.fit(X_train, y_train)\n",
    "rsf_search.fit(X_train, y_train)\n",
    "gbcox_search.fit(X_train, y_train)\n",
    "\n",
    "# Collect results\n",
    "models = {\n",
    "    'Cox Proportional Hazards': cox_search,\n",
    "    'Random Survival Forest': rsf_search,\n",
    "    'Gradient-Boosted Cox': gbcox_search\n",
    "}\n",
    "\n",
    "# Create empty DataFrame\n",
    "cv_results_df = pd.DataFrame()\n",
    "\n",
    "# Iterate over models and collect results\n",
    "for name, search in models.items():\n",
    "    df = pd.DataFrame(search.cv_results_)\n",
    "    df[\"Model\"] = name  \n",
    "    cv_results_df = pd.concat([cv_results_df, df], ignore_index=True)\n",
    "\n",
    "# Save results to CSV\n",
    "cv_results_df.to_csv(\"cross_validation_results.csv\", index=False)\n",
    "\n",
    "\n",
    "# Select the best model based on test performance\n",
    "best_model_name, best_model, best_score = None, None, float(\"-inf\")  \n",
    "for name, search in models.items():\n",
    "    score = search.best_score_  \n",
    "    print(f\"{name} Best Score: {score:.4f}\")\n",
    "    if score > best_score:  \n",
    "        best_model_name, best_model, best_score = name, search.best_estimator_, score\n",
    "\n",
    "print(f\"Best model: {best_model_name} with score {best_score:.4f}\")\n",
    "       \n",
    "\n",
    "# Save best model\n",
    "joblib.dump(best_model, \"best_survival_model.pkl\")\n",
    "\n"
   ]
  },
  {
   "cell_type": "markdown",
   "metadata": {},
   "source": [
    "4.1. Concordance Index Distribution Across Models"
   ]
  },
  {
   "cell_type": "code",
   "execution_count": 20,
   "metadata": {},
   "outputs": [
    {
     "data": {
      "image/png": "[encoded data removed]",
      "text/plain": [
       "<Figure size 1200x700 with 1 Axes>"
      ]
     },
     "metadata": {},
     "output_type": "display_data"
    }
   ],
   "source": [
    "# Prepare data for boxplot\n",
    "cv_results = []\n",
    "for name, search in models.items():\n",
    "    scores = np.array(search.cv_results_[\"mean_test_score\"])  # C-index\n",
    "    for score in scores:\n",
    "        cv_results.append({\"Model\": name, \"Concordance Index\": score})\n",
    "\n",
    "df_results = pd.DataFrame(cv_results)\n",
    "\n",
    "# Enhanced boxplot visualization\n",
    "plt.figure(figsize=(12, 7))\n",
    "sns.set_style(\"whitegrid\")\n",
    "\n",
    "ax = sns.boxplot(\n",
    "    x=\"Model\", \n",
    "    y=\"Concordance Index\", \n",
    "    data=df_results, \n",
    "    hue=\"Model\",  \n",
    "    dodge=False,  \n",
    "    legend=False,  \n",
    "    palette=\"muted\"\n",
    ")\n",
    "\n",
    "plt.title(\"Distribution of Concordance Index Across Models\", fontsize=16, fontweight=\"bold\")\n",
    "plt.xlabel(\"Model\", fontsize=14)\n",
    "plt.ylabel(\"Concordance Index\", fontsize=14)\n",
    "\n",
    "# Rotate x-axis labels if needed\n",
    "plt.xticks(rotation=20, fontsize=12)\n",
    "plt.yticks(fontsize=12)\n",
    "\n",
    "# Add grid for better readability\n",
    "ax.grid(True, linestyle=\"--\", alpha=0.6)\n",
    "\n",
    "plt.show()\n"
   ]
  },
  {
   "cell_type": "markdown",
   "metadata": {},
   "source": [
    "### 5. Best Model Predictions on the Test Dataset"
   ]
  },
  {
   "cell_type": "code",
   "execution_count": null,
   "metadata": {},
   "outputs": [
    {
     "name": "stdout",
     "output_type": "stream",
     "text": [
      "Concordance Index on the test dataset: 0.8382\n"
     ]
    },
    {
     "data": {
      "application/vnd.plotly.v1+json": {
       "config": {
        "plotlyServerURL": "https://plot.ly"
       },
       "data": [
        {
         "hovertemplate": "Car Type: Nissan_Qashqai<br>Weeks on Stock: %{x}<br>Probability: %{y:.2f}",
         "mode": "lines",
         "name": "Nissan_Qashqai",
         "type": "scatter",
         "x": {
          "bdata": "AAAAAAEAAAACAAAAAwAAAAQAAAAFAAAABgAAAAcAAAAIAAAACQAAAAoAAAALAAAADAAAAA0AAAAOAAAADwAAABAAAAARAAAAEgAAABMAAAAUAAAAFQAAABYAAAAXAAAAGAAAABkAAAAaAAAAGwAAABwAAAAdAAAAHgAAAB8AAAAgAAAAIQAAACIAAAAjAAAAJAAAACUAAAAmAAAAJwAAACgAAAApAAAAKgAAACsAAAAsAAAALQAAAC4AAAAvAAAAMAAAADEAAAAyAAAAMwAAADQAAAA1AAAANgAAADcAAAA4AAAAOQAAADoAAAA7AAAAPAAAAD0AAAA+AAAAPwAAAEAAAABBAAAAQgAAAEMAAABEAAAARQAAAEYAAABHAAAASAAAAEkAAABKAAAASwAAAEwAAABNAAAATgAAAE8AAABQAAAAUQAAAFIAAABTAAAAVAAAAFUAAABWAAAAVwAAAFgAAABZAAAAWgAAAFsAAABcAAAAXQAAAF4AAABfAAAAYAAAAA==",
          "dtype": "i4"
         },
         "y": {
          "bdata": "AAAAAAAA8D88URivPNDvP2CYhJ+sCu8/USkZbTkB7T9Hb0Q15aXrP5kSFGABg+o/fa1VY2PN6D/rhjGWvZLnP+KaVDrS2uY/MkTXw5tM5D/4S6qDyoLjP2OC41bHSuI/20QLl6T53j+dWqHeQHvdP/wqOYfsMNs/McibQ3XY1z+usLw6bd7VP35Bx8/e/9Q/BL2RWm820j+s6c+3UlfQP1fwLQbCKdA/4gq50eMazD/E2RLyqmrKPxJuFittNMc/8O0Dd/iFxT++Gc63pWrFP4i0jmFGQ8I/K3W1HaTgwD81GNx7k5q9PyqXT6XQCL0/qP3iAxwuuD+/BxN1cQK4P0DgYeGGYrQ/XJFxu8URtD/JZbXYPjiwPxGVtmFuyak/jm13koq2pT+L5kVYnsmkP4v2ICJrl6A/kYydEIP1nz+jqhSMrgibPzJYtXjQ7Jk/luCPtthikj/O27oMF4CRPxKMKC0/hYw/vnvtfnp4ij8XvCy75KmGPzGPTeJEz4Q/LiVcdyimgj+wBf86u86BPyyXfrxMO34//fJsfgH8eT81dBqaDjd2P8XW6LC7zXM/MhC8l8UVcD9ZXWMh9IVqPylwa2JJfmM/bsFa1X/AYD/vyjO7CLtdP3A9NMH7Nlk/i1MxvDpRVD8/SYjHJIhSP2p8NbmgsU4/i9XpfcDrQD95j69WPwJAP+k5+Ps/DDs/J4qbk9x8Nj8+HigV+8YzPz2o2FoUUjE/BGx32MAqMD/is5/4VSYuPyJqsnZJVyg/BspvWq0LIj/gKaVH2qggPx0bV8vrth4/N3uJ4jm/GT+hTVayHT0XP2Ty6HS93RI/gfYNASuGDj+B9g0BK4YOP855pEgPyAQ/znmkSA/IBD/OeaRID8gEP855pEgPyAQ/znmkSA/IBD/OeaRID8gEP855pEgPyAQ/cIcMi1fU7D5whwyLV9TsPnCHDItX1Ow+cIcMi1fU7D5whwyLV9TsPnCHDItX1Ow+cIcMi1fU7D5whwyLV9TsPnCHDItX1Ow+cIcMi1fU7D4=",
          "dtype": "f8"
         }
        },
        {
         "hovertemplate": "Car Type: Audi_A3<br>Weeks on Stock: %{x}<br>Probability: %{y:.2f}",
         "mode": "lines",
         "name": "Audi_A3",
         "type": "scatter",
         "x": {
          "bdata": "AAAAAAEAAAACAAAAAwAAAAQAAAAFAAAABgAAAAcAAAAIAAAACQAAAAoAAAALAAAADAAAAA0AAAAOAAAADwAAABAAAAARAAAAEgAAABMAAAAUAAAAFQAAABYAAAAXAAAAGAAAABkAAAAaAAAAGwAAABwAAAAdAAAAHgAAAB8AAAAgAAAAIQAAACIAAAAjAAAAJAAAACUAAAAmAAAAJwAAACgAAAApAAAAKgAAACsAAAAsAAAALQAAAC4AAAAvAAAAMAAAADEAAAAyAAAAMwAAADQAAAA1AAAANgAAADcAAAA4AAAAOQAAADoAAAA7AAAAPAAAAD0AAAA+AAAAPwAAAEAAAABBAAAAQgAAAEMAAABEAAAARQAAAEYAAABHAAAASAAAAEkAAABKAAAASwAAAEwAAABNAAAATgAAAE8AAABQAAAAUQAAAFIAAABTAAAAVAAAAFUAAABWAAAAVwAAAFgAAABZAAAAWgAAAFsAAABcAAAAXQAAAF4AAABfAAAAYAAAAA==",
          "dtype": "i4"
         },
         "y": {
          "bdata": "AAAAAAAA8D/eZdXlis7vP6qx5coUAu8/HhIrnE3n7D/XY4FZLIHrP8kgepW3Veo/yay/QxSU6D+WrC0gd1HnP41zEiYqleY/8UAL1B754z8kZJiFnyvjPyz9d82B7uE/TaLSLn4v3j+iOvx/7a3cP3KVfTQXYNo/+9XBOrgF1z9rhSIMigzVP6rM6+vcLtQ/XzQlqoRq0T/DbbAV6SHPPwpx658HyM4/IJZ8mwShyj/br+C3YvnIP2hNwToy1sU/fJnlGUIzxD8aEU1WtBjEP4pq54pMCsE/WqlrrTVovz/nNK+2kmq7P5t5KcrT3ro/daS4zZE7tj8yno4j/xG2P808LDIsobI/aaHCRsRUsj9XXelR72etP7JIG590L6c/CWWJCEpnoz9GIcy7M4yiP6d0AW/uXp0/lhuuiew/nD8m/RmqG8GXP2GtsCj+vpY/umwCRv3ejz9n4wdLSkiOPzgVIZMif4g/SmZvHvqshj8gUJP7uU6DP9Zwz8+frIE/jDhvCyCOfz/6UODP8hR+P3RQqiDkYnk/F8cPzNmzdT/2nmvFfnNyP78RU0CVYXA/oMQRnQxqaj8yJxAt8aBlP4YykmwRcl8/SqIp58XgWj9KVKeq779XP8UfOCpOBlQ/jGNi//8CUD97sMIZHx1NPyzf5ojy8kc/kubrSP/ZOT862yH/6mg4P0DBhKZhfzQ/dsUYLCLuMD/QVh1wtaQtPywFpFfH1ik/3sUuxBUPKD+cPAaAvmAmP9FbACDu7SE/2kUwHpFNGj8crx0xujYYPxrfdyqiQRY/VqKFaz+KEj/RL4sAR6wQP8E6YE0d3wo/M/4vKiGTBT8z/i8qIZMFP3VZgsZa+vw+dVmCxlr6/D51WYLGWvr8PnVZgsZa+vw+dVmCxlr6/D51WYLGWvr8PnVZgsZa+vw+KdfGnlNb4z4p18aeU1vjPinXxp5TW+M+KdfGnlNb4z4p18aeU1vjPinXxp5TW+M+KdfGnlNb4z4p18aeU1vjPinXxp5TW+M+KdfGnlNb4z4=",
          "dtype": "f8"
         }
        },
        {
         "hovertemplate": "Car Type: Citroen_DS4<br>Weeks on Stock: %{x}<br>Probability: %{y:.2f}",
         "mode": "lines",
         "name": "Citroen_DS4",
         "type": "scatter",
         "x": {
          "bdata": "AAAAAAEAAAACAAAAAwAAAAQAAAAFAAAABgAAAAcAAAAIAAAACQAAAAoAAAALAAAADAAAAA0AAAAOAAAADwAAABAAAAARAAAAEgAAABMAAAAUAAAAFQAAABYAAAAXAAAAGAAAABkAAAAaAAAAGwAAABwAAAAdAAAAHgAAAB8AAAAgAAAAIQAAACIAAAAjAAAAJAAAACUAAAAmAAAAJwAAACgAAAApAAAAKgAAACsAAAAsAAAALQAAAC4AAAAvAAAAMAAAADEAAAAyAAAAMwAAADQAAAA1AAAANgAAADcAAAA4AAAAOQAAADoAAAA7AAAAPAAAAD0AAAA+AAAAPwAAAEAAAABBAAAAQgAAAEMAAABEAAAARQAAAEYAAABHAAAASAAAAEkAAABKAAAASwAAAEwAAABNAAAATgAAAE8AAABQAAAAUQAAAFIAAABTAAAAVAAAAFUAAABWAAAAVwAAAFgAAABZAAAAWgAAAFsAAABcAAAAXQAAAF4AAABfAAAAYAAAAA==",
          "dtype": "i4"
         },
         "y": {
          "bdata": "AAAAAAAA8D/acX6/O+7vP/OX+nIKpO8/p5Lsv3ja7j+BDS7NOE/uP6dp6FpB1+0/eNolnYYc7T8b8331NJHsP9rUiGGlPew/ydnYtkEG6z9gt9z0QKHqP/iMte3r/+k/ekW8pxJx6D+bvoAjTP/nP4ZuKC+TSec/J0mQCe4t5j+CxM7KZnrlPwSgqTY1KOU/dkJzYlAR5D/bmf8omEbjP/0UMMORMuM/58m/r8A54j9MLZfmps/hP5FVe11h+eA/mJJ7TLKB4D8gv2Jt53ngP0zR1VZTD98/8Ybw7NAp3j/EbYm0mrrcPz40ME7Dhdw/lYHzWDym2j9DH4vPU5TaP28e8WosA9k/Vw9i+jPe2D++ep99MPrWPzGhc1ezGdU/YRDo55zL0z9ny1KDUHrTPyorHsji6dE/lKj9B1eq0T8AFoOE35nQP089ROlLWNA/ujnyTDjGzD8snLGcaEDMPySb5076Lso/o17G2OR3yT+uFCcJpArIP47upFqrSsc/WJ22Stpcxj9U5DAvi/vFP3I6UuFUr8Q/RdxwIuONwz8gBFRC53LCP/7GAJulrcE/A57dXFRdwD+EoU6WNne+P2+M8fyLLLs/UaA9eeavuT+i61Jzi5K4Pz3EDT5KHbc/HTXnnVhVtT+ZOcpm+Z20P8XEvacSObM/ceV3ZsDRrj/mpbSLFTGuP75zNN/eW6w/Eus879l6qj869wyuKz+pP13MkLaXCKg/jn7b7SJtpz8h6jNkZtOmP7HJOOwJFaU/I0E4Qnrdoj/58JCRR1CiP703iNy1xKE/d8QaN06koD/7x919OAWgPwsvBkGNp50/4k6XkeZomz/iTpeR5mibP39Nau56w5c/f01q7nrDlz9/TWruesOXP39Nau56w5c/f01q7nrDlz9/TWruesOXP39Nau56w5c/zpJ1zsUJkD/OknXOxQmQP86Sdc7FCZA/zpJ1zsUJkD/OknXOxQmQP86Sdc7FCZA/zpJ1zsUJkD/OknXOxQmQP86Sdc7FCZA/zpJ1zsUJkD8=",
          "dtype": "f8"
         }
        },
        {
         "hovertemplate": "Car Type: Peugeot_3008<br>Weeks on Stock: %{x}<br>Probability: %{y:.2f}",
         "mode": "lines",
         "name": "Peugeot_3008",
         "type": "scatter",
         "x": {
          "bdata": "AAAAAAEAAAACAAAAAwAAAAQAAAAFAAAABgAAAAcAAAAIAAAACQAAAAoAAAALAAAADAAAAA0AAAAOAAAADwAAABAAAAARAAAAEgAAABMAAAAUAAAAFQAAABYAAAAXAAAAGAAAABkAAAAaAAAAGwAAABwAAAAdAAAAHgAAAB8AAAAgAAAAIQAAACIAAAAjAAAAJAAAACUAAAAmAAAAJwAAACgAAAApAAAAKgAAACsAAAAsAAAALQAAAC4AAAAvAAAAMAAAADEAAAAyAAAAMwAAADQAAAA1AAAANgAAADcAAAA4AAAAOQAAADoAAAA7AAAAPAAAAD0AAAA+AAAAPwAAAEAAAABBAAAAQgAAAEMAAABEAAAARQAAAEYAAABHAAAASAAAAEkAAABKAAAASwAAAEwAAABNAAAATgAAAE8AAABQAAAAUQAAAFIAAABTAAAAVAAAAFUAAABWAAAAVwAAAFgAAABZAAAAWgAAAFsAAABcAAAAXQAAAF4AAABfAAAAYAAAAA==",
          "dtype": "i4"
         },
         "y": {
          "bdata": "AAAAAAAA8D/CxBLEX//vP2LK1fu+/O8/N/XVrHz17z9zaxT8XfDvPytNWXji6+8/rVTpScXk7z/E6W2YWd/vP7mesf4M3O8/cDsnZ2zP7z85TlypNcvvP9wF2i1axO8/Ow4Bkq+y7z/jkQBncq3vPzl3vcHhpO8/WnI1+/6W7z+uKSpm243vP63ygJCTie8/B1DXzZF67z/3TCnkKG/vP5kKRxoCbu8/Xcp+WE9f7z9RUUyYz1jvP8iDbZY6S+8/nYxowFtD7z+pJ32q1kLvPz8n7pEyMu8/Xi+4SPgp7z/EGkk8TRzvP8ZmredHGu8/quur2EQH7z8Ha7HAiAbvP8eGJDWR9e4/l7b/x/Pz7j+HkbSF7t3uPxTCJwBFxu4/qfJwi5a07j+5BYGGHbDuPwpx/BQBme4/Ud1nmSiV7j/ZUcpADoTuP/McpxPIf+4/3l1Dtc1c7j9ew2lTylfuP0oQ4E0JQ+4/2FBAVH077j9IhpF1zSvuPzVF8ZwxI+4/XTpVgyYY7j9g8pDtgBPuP7E27pUIA+4//Kdsitnz7T8QvAWrKeTtP1GVyZ2u2O0/aONiLvLD7T/1dVx/wLDtP24im3U6ku0/dPgVWUCD7T9Mm8/vdnftP1JXPzs+Z+0/+uc2MghS7T/HLjP/A0ntP0x13bOQNu0/sAitxZj87D9nMIzGOffsP5vkhWPm5uw/kZF3FxLV7D/5ASaSscjsPx2pOA7vu+w/PDEEz0+17D8rrBYYma7sP8m1G9AXmuw/EWaXUoR97D8+OECM53XsP95LpMkobuw/UpWQl2Zd7D95V8+WrlPsP0owyPL0P+w/MSqQXfMr7D8xKpBd8yvsP+2PXr7PB+w/7Y9evs8H7D/tj16+zwfsP+2PXr7PB+w/7Y9evs8H7D/tj16+zwfsP+2PXr7PB+w/ul5UojOl6z+6XlSiM6XrP7peVKIzpes/ul5UojOl6z+6XlSiM6XrP7peVKIzpes/ul5UojOl6z+6XlSiM6XrP7peVKIzpes/ul5UojOl6z8=",
          "dtype": "f8"
         }
        },
        {
         "hovertemplate": "Car Type: Peugeot__308<br>Weeks on Stock: %{x}<br>Probability: %{y:.2f}",
         "mode": "lines",
         "name": "Peugeot__308",
         "type": "scatter",
         "x": {
          "bdata": "AAAAAAEAAAACAAAAAwAAAAQAAAAFAAAABgAAAAcAAAAIAAAACQAAAAoAAAALAAAADAAAAA0AAAAOAAAADwAAABAAAAARAAAAEgAAABMAAAAUAAAAFQAAABYAAAAXAAAAGAAAABkAAAAaAAAAGwAAABwAAAAdAAAAHgAAAB8AAAAgAAAAIQAAACIAAAAjAAAAJAAAACUAAAAmAAAAJwAAACgAAAApAAAAKgAAACsAAAAsAAAALQAAAC4AAAAvAAAAMAAAADEAAAAyAAAAMwAAADQAAAA1AAAANgAAADcAAAA4AAAAOQAAADoAAAA7AAAAPAAAAD0AAAA+AAAAPwAAAEAAAABBAAAAQgAAAEMAAABEAAAARQAAAEYAAABHAAAASAAAAEkAAABKAAAASwAAAEwAAABNAAAATgAAAE8AAABQAAAAUQAAAFIAAABTAAAAVAAAAFUAAABWAAAAVwAAAFgAAABZAAAAWgAAAFsAAABcAAAAXQAAAF4AAABfAAAAYAAAAA==",
          "dtype": "i4"
         },
         "y": {
          "bdata": "AAAAAAAA8D+EvE6E2MrvP1f/eyRc7+4/glW/8guv7D+hIUT1sDHrP64AlEHt8+k/YSnFPMwY6D9g/gk+c8XmP1rIqjgDAOY/aSwbbotH4z+Fe/tionLiP0y1r/xlK+E/xn2GhwmI3D8PTE/5AwHbP0zrfzbVrdg/sZjdm7lS1T9C5mNKZ13TP1XuoiqDgtI/XvVsaNuXzz+9Br6sLwDMP7scBVdSqcs/wA6QJdirxz+7Fqm1/BfGP9+ThbrlH8M/+u/uiJyWwT+ZlYQYw33BP0+LOiY1TL0/p9F/xqbVuj+xAC1v8y+3PxbTs0r+sLY/+rWJHpSCsj8G7eCYYV2yP6uMqRmnnK4/Vp7XDcUVrj9UPnxUGLynP+VAXSMcYqI/Dve1vnNcnj+DtfT9jOycP+5p9srpgJY/zK/VC92UlT/QMnuLs+mRP1I7H+PMGJE/QqqrniVThz9Id6WnyhOGPw/DS17Wk4E/MuxyA0otgD9JSMHUyDd7P5kjUpc/wHg/0wRM01LodT9AKs7iU890PwURLljrVnE/fyw7ouJMbT+F3D0+/JtoP1YLew6Gp2U/XT3oeMotYT/1I2XY5rZbPzpUorayq1M/M9RpuuKdUD8Mir5WIxhNP5/SPXsSOEg/13FPYSILQz/1iAJooDBBP3OzjHer3js/Cf1TdGW5LD/9baBSfQErP3uOd2DjYSY/w3ba5kk5Ij8wbNmVdpcfP/NIAIBIQRs/5p8SV+89GT9yJSEE4FkXP+6CajCXZhI/1kZ279NfCj+VElbpFCEIPx4Zter1CQY/RrbvUOsbAj+wGFyRASgAPwhdPRflnvk+uuuncwo89D6666dzCjz0PmahGk3hYOo+ZqEaTeFg6j5moRpN4WDqPmahGk3hYOo+ZqEaTeFg6j5moRpN4WDqPmahGk3hYOo+L97Bga860D4v3sGBrzrQPi/ewYGvOtA+L97Bga860D4v3sGBrzrQPi/ewYGvOtA+L97Bga860D4v3sGBrzrQPi/ewYGvOtA+L97Bga860D4=",
          "dtype": "f8"
         }
        },
        {
         "hovertemplate": "Car Type: Volkswagen_Passat<br>Weeks on Stock: %{x}<br>Probability: %{y:.2f}",
         "mode": "lines",
         "name": "Volkswagen_Passat",
         "type": "scatter",
         "x": {
          "bdata": "AAAAAAEAAAACAAAAAwAAAAQAAAAFAAAABgAAAAcAAAAIAAAACQAAAAoAAAALAAAADAAAAA0AAAAOAAAADwAAABAAAAARAAAAEgAAABMAAAAUAAAAFQAAABYAAAAXAAAAGAAAABkAAAAaAAAAGwAAABwAAAAdAAAAHgAAAB8AAAAgAAAAIQAAACIAAAAjAAAAJAAAACUAAAAmAAAAJwAAACgAAAApAAAAKgAAACsAAAAsAAAALQAAAC4AAAAvAAAAMAAAADEAAAAyAAAAMwAAADQAAAA1AAAANgAAADcAAAA4AAAAOQAAADoAAAA7AAAAPAAAAD0AAAA+AAAAPwAAAEAAAABBAAAAQgAAAEMAAABEAAAARQAAAEYAAABHAAAASAAAAEkAAABKAAAASwAAAEwAAABNAAAATgAAAE8AAABQAAAAUQAAAFIAAABTAAAAVAAAAFUAAABWAAAAVwAAAFgAAABZAAAAWgAAAFsAAABcAAAAXQAAAF4AAABfAAAAYAAAAA==",
          "dtype": "i4"
         },
         "y": {
          "bdata": "AAAAAAAA8D+pzDM7pfjvP1CxsdTU2e8/24kZDEWF7z/A7hZQHErvP4k+/IOkFu8/j6wPl5TF7j/pBgstUojuP/62T/4/Y+4//5k9zdjW7T+YzgwBg6jtP2d2TXGoXe0/HrQj5emf7D+ku7trfmjsP35DEO+2Duw/UgX7e1B/6z+SoLSmXiLrP4ZYYQg59+o/01TcYuNh6j+SIlMsVfLpP1kxvhYr5+k/D+ZP0Sla6T/g5p8CshzpP5lNIrXzneg/eAFS0o5V6D8mNaWOzVDoP2XhgOtWuuc/s3Nw4i5x5z9puyW6bvnmPzhi8gvq5+Y/TvzLcGxF5j+0Kic5Oj/mP9gkgXLYseU/n2e+qo6k5T9cRUXUPvLkPzYAEyyBOOQ/NjF//ZKx4z+avDez9I/jP77EVa595eI/9BI2k6XJ4j8jfUbIlE/iPyGDObCFMeI/0CnYmRNC4T9gwupRsiDhP3YjzMzymOA/IyFVJoxo4D9FKRm2jAXgP+S8FA9EoN8/KiocaxUZ3z8VWm9X0uDeP/d9VhdTHN4/bct8wiRr3T9oPMW4ArjcPzlAxfpjN9w/rq1c+EhU2z9puwXT6IfaP8RH/YUfTtk/xzdkXA+52D+f1vJz9kXYP2vW4Mqwqtc/W44ojQPl1j9DY8yFyZLWP3E0nVnO7dU/AYDxbxcD1D+Ng4gFrNfTP4UqLgnBVdM/u0LmbVnL0j8zc76DXG3SP/pQU1I6DtI/22Cy9Izd0T+8jDfDrazRP9g6lZNbGtE/42toOqhV0D+E+TPMoyLQP9PFHb2i3s8/3ASlm4UEzz93748zfYjOPwaVfWgvks0/eRCs8aSfzD95EKzxpJ/MP6Jg/JZ1+8o/omD8lnX7yj+iYPyWdfvKP6Jg/JZ1+8o/omD8lnX7yj+iYPyWdfvKP6Jg/JZ1+8o/evzPuYjuxj96/M+5iO7GP3r8z7mI7sY/evzPuYjuxj96/M+5iO7GP3r8z7mI7sY/evzPuYjuxj96/M+5iO7GP3r8z7mI7sY/evzPuYjuxj8=",
          "dtype": "f8"
         }
        },
        {
         "hovertemplate": "Car Type: Peugeot_3008<br>Weeks on Stock: %{x}<br>Probability: %{y:.2f}",
         "mode": "lines",
         "name": "Peugeot_3008",
         "type": "scatter",
         "x": {
          "bdata": "AAAAAAEAAAACAAAAAwAAAAQAAAAFAAAABgAAAAcAAAAIAAAACQAAAAoAAAALAAAADAAAAA0AAAAOAAAADwAAABAAAAARAAAAEgAAABMAAAAUAAAAFQAAABYAAAAXAAAAGAAAABkAAAAaAAAAGwAAABwAAAAdAAAAHgAAAB8AAAAgAAAAIQAAACIAAAAjAAAAJAAAACUAAAAmAAAAJwAAACgAAAApAAAAKgAAACsAAAAsAAAALQAAAC4AAAAvAAAAMAAAADEAAAAyAAAAMwAAADQAAAA1AAAANgAAADcAAAA4AAAAOQAAADoAAAA7AAAAPAAAAD0AAAA+AAAAPwAAAEAAAABBAAAAQgAAAEMAAABEAAAARQAAAEYAAABHAAAASAAAAEkAAABKAAAASwAAAEwAAABNAAAATgAAAE8AAABQAAAAUQAAAFIAAABTAAAAVAAAAFUAAABWAAAAVwAAAFgAAABZAAAAWgAAAFsAAABcAAAAXQAAAF4AAABfAAAAYAAAAA==",
          "dtype": "i4"
         },
         "y": {
          "bdata": "AAAAAAAA8D/OFMV7BfnvP8obP3fH2+8/n1a8eICL7z91WViBUFPvP2giqyZqIu8/l0DMSl3V7j94DqYoHJvuP5TksZrYd+4/Z7bHhzXy7T9o76pTFMbtPz9H+mXCfu0/9VTyFM/J7D8qoAOh6ZTsP3l2I3ctP+w/U7vLfx+26z9/8/QVN13rP1Ro0evrM+s/34ZaKOak6j+y6z8O9DnqP6mypsk+L+o/gMM+b+yn6T+nzv3c4mzpP3TQRicQ8+g/UA/lXmyt6D/IXIQM2ajoPxXmb174F+g/ZVwhrXbR5z9XQnSL9F3nP40MzSsMTec/hShslxiw5j++IT9MG6rmP+Pa5LxZIeY/ZhH37nwU5j/40lruu2flP1HSOkl4s+Q/UjhQm08w5D9mMmbEmg/kP/m9rMyWaeM/zgz7iXFO4z+e4lJUWNfiPxGhjhf+ueI/X2ayqdLP4T9opIOqIK/hPyqCKR8IKuE/mR0jLob64D/gC2gcRJngP47MgwO9ZOA/sDMfpDgi4D/I/2kwhQbgP80+yFJjS98/Q6seMo6c3j/e2tsxlevdP+R0gsdgbN0/9vy9u3yL3D8sbaQbycDbPwQlZUH1iNo/yYWbh4702T9Obcot2YHZPz4Um5/t5tg/xHsWomch2D9GS0ZlJM/XP0qQ80ToKdc/QGumBPA81T8sIMGLNBHVP9Y9lZo8jtQ/YBNN44QC1D8O7nDMhaPTP5uNBghFQ9M/A/skCPsR0z8DxaOqd+DSP1XcP8EPTNI/kbYaECiE0T+9Ftr4OlDRP4gsugT2G9E/rCJ0W8es0D8uRCD5e23QPzIvGklI388/cqEaJQjnzj9yoRolCOfOP9Fd2WfzN80/0V3ZZ/M3zT/RXdln8zfNP9Fd2WfzN80/0V3ZZ/M3zT/RXdln8zfNP9Fd2WfzN80/pA+3ozAKyT+kD7ejMArJP6QPt6MwCsk/pA+3ozAKyT+kD7ejMArJP6QPt6MwCsk/pA+3ozAKyT+kD7ejMArJP6QPt6MwCsk/pA+3ozAKyT8=",
          "dtype": "f8"
         }
        },
        {
         "hovertemplate": "Car Type: Renault_Clio<br>Weeks on Stock: %{x}<br>Probability: %{y:.2f}",
         "mode": "lines",
         "name": "Renault_Clio",
         "type": "scatter",
         "x": {
          "bdata": "AAAAAAEAAAACAAAAAwAAAAQAAAAFAAAABgAAAAcAAAAIAAAACQAAAAoAAAALAAAADAAAAA0AAAAOAAAADwAAABAAAAARAAAAEgAAABMAAAAUAAAAFQAAABYAAAAXAAAAGAAAABkAAAAaAAAAGwAAABwAAAAdAAAAHgAAAB8AAAAgAAAAIQAAACIAAAAjAAAAJAAAACUAAAAmAAAAJwAAACgAAAApAAAAKgAAACsAAAAsAAAALQAAAC4AAAAvAAAAMAAAADEAAAAyAAAAMwAAADQAAAA1AAAANgAAADcAAAA4AAAAOQAAADoAAAA7AAAAPAAAAD0AAAA+AAAAPwAAAEAAAABBAAAAQgAAAEMAAABEAAAARQAAAEYAAABHAAAASAAAAEkAAABKAAAASwAAAEwAAABNAAAATgAAAE8AAABQAAAAUQAAAFIAAABTAAAAVAAAAFUAAABWAAAAVwAAAFgAAABZAAAAWgAAAFsAAABcAAAAXQAAAF4AAABfAAAAYAAAAA==",
          "dtype": "i4"
         },
         "y": {
          "bdata": "AAAAAAAA8D/OFMV7BfnvP8obP3fH2+8/n1a8eICL7z91WViBUFPvP2giqyZqIu8/l0DMSl3V7j94DqYoHJvuP5TksZrYd+4/Z7bHhzXy7T9o76pTFMbtPz9H+mXCfu0/9VTyFM/J7D8qoAOh6ZTsP3l2I3ctP+w/U7vLfx+26z9/8/QVN13rP1Ro0evrM+s/34ZaKOak6j+y6z8O9DnqP6mypsk+L+o/gMM+b+yn6T+nzv3c4mzpP3TQRicQ8+g/UA/lXmyt6D/IXIQM2ajoPxXmb174F+g/ZVwhrXbR5z9XQnSL9F3nP40MzSsMTec/hShslxiw5j++IT9MG6rmP+Pa5LxZIeY/ZhH37nwU5j/40lruu2flP1HSOkl4s+Q/UjhQm08w5D9mMmbEmg/kP/m9rMyWaeM/zgz7iXFO4z+e4lJUWNfiPxGhjhf+ueI/X2ayqdLP4T9opIOqIK/hPyqCKR8IKuE/mR0jLob64D/gC2gcRJngP47MgwO9ZOA/sDMfpDgi4D/I/2kwhQbgP80+yFJjS98/Q6seMo6c3j/e2tsxlevdP+R0gsdgbN0/9vy9u3yL3D8sbaQbycDbPwQlZUH1iNo/yYWbh4702T9Obcot2YHZPz4Um5/t5tg/xHsWomch2D9GS0ZlJM/XP0qQ80ToKdc/QGumBPA81T8sIMGLNBHVP9Y9lZo8jtQ/YBNN44QC1D8O7nDMhaPTP5uNBghFQ9M/A/skCPsR0z8DxaOqd+DSP1XcP8EPTNI/kbYaECiE0T+9Ftr4OlDRP4gsugT2G9E/rCJ0W8es0D8uRCD5e23QPzIvGklI388/cqEaJQjnzj9yoRolCOfOP9Fd2WfzN80/0V3ZZ/M3zT/RXdln8zfNP9Fd2WfzN80/0V3ZZ/M3zT/RXdln8zfNP9Fd2WfzN80/pA+3ozAKyT+kD7ejMArJP6QPt6MwCsk/pA+3ozAKyT+kD7ejMArJP6QPt6MwCsk/pA+3ozAKyT+kD7ejMArJP6QPt6MwCsk/pA+3ozAKyT8=",
          "dtype": "f8"
         }
        },
        {
         "hovertemplate": "Car Type: Volkswagen_Caddy<br>Weeks on Stock: %{x}<br>Probability: %{y:.2f}",
         "mode": "lines",
         "name": "Volkswagen_Caddy",
         "type": "scatter",
         "x": {
          "bdata": "AAAAAAEAAAACAAAAAwAAAAQAAAAFAAAABgAAAAcAAAAIAAAACQAAAAoAAAALAAAADAAAAA0AAAAOAAAADwAAABAAAAARAAAAEgAAABMAAAAUAAAAFQAAABYAAAAXAAAAGAAAABkAAAAaAAAAGwAAABwAAAAdAAAAHgAAAB8AAAAgAAAAIQAAACIAAAAjAAAAJAAAACUAAAAmAAAAJwAAACgAAAApAAAAKgAAACsAAAAsAAAALQAAAC4AAAAvAAAAMAAAADEAAAAyAAAAMwAAADQAAAA1AAAANgAAADcAAAA4AAAAOQAAADoAAAA7AAAAPAAAAD0AAAA+AAAAPwAAAEAAAABBAAAAQgAAAEMAAABEAAAARQAAAEYAAABHAAAASAAAAEkAAABKAAAASwAAAEwAAABNAAAATgAAAE8AAABQAAAAUQAAAFIAAABTAAAAVAAAAFUAAABWAAAAVwAAAFgAAABZAAAAWgAAAFsAAABcAAAAXQAAAF4AAABfAAAAYAAAAA==",
          "dtype": "i4"
         },
         "y": {
          "bdata": "AAAAAAAA8D/CxBLEX//vP2LK1fu+/O8/N/XVrHz17z9zaxT8XfDvPytNWXji6+8/rVTpScXk7z/E6W2YWd/vP7mesf4M3O8/cDsnZ2zP7z85TlypNcvvP9wF2i1axO8/Ow4Bkq+y7z/jkQBncq3vPzl3vcHhpO8/WnI1+/6W7z+uKSpm243vP63ygJCTie8/B1DXzZF67z/3TCnkKG/vP5kKRxoCbu8/Xcp+WE9f7z9RUUyYz1jvP8iDbZY6S+8/nYxowFtD7z+pJ32q1kLvPz8n7pEyMu8/Xi+4SPgp7z/EGkk8TRzvP8ZmredHGu8/quur2EQH7z8Ha7HAiAbvP8eGJDWR9e4/l7b/x/Pz7j+HkbSF7t3uPxTCJwBFxu4/qfJwi5a07j+5BYGGHbDuPwpx/BQBme4/Ud1nmSiV7j/ZUcpADoTuP/McpxPIf+4/3l1Dtc1c7j9ew2lTylfuP0oQ4E0JQ+4/2FBAVH077j9IhpF1zSvuPzVF8ZwxI+4/XTpVgyYY7j9g8pDtgBPuP7E27pUIA+4//Kdsitnz7T8QvAWrKeTtP1GVyZ2u2O0/aONiLvLD7T/1dVx/wLDtP24im3U6ku0/dPgVWUCD7T9Mm8/vdnftP1JXPzs+Z+0/+uc2MghS7T/HLjP/A0ntP0x13bOQNu0/sAitxZj87D9nMIzGOffsP5vkhWPm5uw/kZF3FxLV7D/5ASaSscjsPx2pOA7vu+w/PDEEz0+17D8rrBYYma7sP8m1G9AXmuw/EWaXUoR97D8+OECM53XsP95LpMkobuw/UpWQl2Zd7D95V8+WrlPsP0owyPL0P+w/MSqQXfMr7D8xKpBd8yvsP+2PXr7PB+w/7Y9evs8H7D/tj16+zwfsP+2PXr7PB+w/7Y9evs8H7D/tj16+zwfsP+2PXr7PB+w/ul5UojOl6z+6XlSiM6XrP7peVKIzpes/ul5UojOl6z+6XlSiM6XrP7peVKIzpes/ul5UojOl6z+6XlSiM6XrP7peVKIzpes/ul5UojOl6z8=",
          "dtype": "f8"
         }
        },
        {
         "hovertemplate": "Car Type: Renault_Laguna_GT<br>Weeks on Stock: %{x}<br>Probability: %{y:.2f}",
         "mode": "lines",
         "name": "Renault_Laguna_GT",
         "type": "scatter",
         "x": {
          "bdata": "AAAAAAEAAAACAAAAAwAAAAQAAAAFAAAABgAAAAcAAAAIAAAACQAAAAoAAAALAAAADAAAAA0AAAAOAAAADwAAABAAAAARAAAAEgAAABMAAAAUAAAAFQAAABYAAAAXAAAAGAAAABkAAAAaAAAAGwAAABwAAAAdAAAAHgAAAB8AAAAgAAAAIQAAACIAAAAjAAAAJAAAACUAAAAmAAAAJwAAACgAAAApAAAAKgAAACsAAAAsAAAALQAAAC4AAAAvAAAAMAAAADEAAAAyAAAAMwAAADQAAAA1AAAANgAAADcAAAA4AAAAOQAAADoAAAA7AAAAPAAAAD0AAAA+AAAAPwAAAEAAAABBAAAAQgAAAEMAAABEAAAARQAAAEYAAABHAAAASAAAAEkAAABKAAAASwAAAEwAAABNAAAATgAAAE8AAABQAAAAUQAAAFIAAABTAAAAVAAAAFUAAABWAAAAVwAAAFgAAABZAAAAWgAAAFsAAABcAAAAXQAAAF4AAABfAAAAYAAAAA==",
          "dtype": "i4"
         },
         "y": {
          "bdata": "AAAAAAAA8D/CxBLEX//vP2LK1fu+/O8/N/XVrHz17z9zaxT8XfDvPytNWXji6+8/rVTpScXk7z/E6W2YWd/vP7mesf4M3O8/cDsnZ2zP7z85TlypNcvvP9wF2i1axO8/Ow4Bkq+y7z/jkQBncq3vPzl3vcHhpO8/WnI1+/6W7z+uKSpm243vP63ygJCTie8/B1DXzZF67z/3TCnkKG/vP5kKRxoCbu8/Xcp+WE9f7z9RUUyYz1jvP8iDbZY6S+8/nYxowFtD7z+pJ32q1kLvPz8n7pEyMu8/Xi+4SPgp7z/EGkk8TRzvP8ZmredHGu8/quur2EQH7z8Ha7HAiAbvP8eGJDWR9e4/l7b/x/Pz7j+HkbSF7t3uPxTCJwBFxu4/qfJwi5a07j+5BYGGHbDuPwpx/BQBme4/Ud1nmSiV7j/ZUcpADoTuP/McpxPIf+4/3l1Dtc1c7j9ew2lTylfuP0oQ4E0JQ+4/2FBAVH077j9IhpF1zSvuPzVF8ZwxI+4/XTpVgyYY7j9g8pDtgBPuP7E27pUIA+4//Kdsitnz7T8QvAWrKeTtP1GVyZ2u2O0/aONiLvLD7T/1dVx/wLDtP24im3U6ku0/dPgVWUCD7T9Mm8/vdnftP1JXPzs+Z+0/+uc2MghS7T/HLjP/A0ntP0x13bOQNu0/sAitxZj87D9nMIzGOffsP5vkhWPm5uw/kZF3FxLV7D/5ASaSscjsPx2pOA7vu+w/PDEEz0+17D8rrBYYma7sP8m1G9AXmuw/EWaXUoR97D8+OECM53XsP95LpMkobuw/UpWQl2Zd7D95V8+WrlPsP0owyPL0P+w/MSqQXfMr7D8xKpBd8yvsP+2PXr7PB+w/7Y9evs8H7D/tj16+zwfsP+2PXr7PB+w/7Y9evs8H7D/tj16+zwfsP+2PXr7PB+w/ul5UojOl6z+6XlSiM6XrP7peVKIzpes/ul5UojOl6z+6XlSiM6XrP7peVKIzpes/ul5UojOl6z+6XlSiM6XrP7peVKIzpes/ul5UojOl6z8=",
          "dtype": "f8"
         }
        }
       ],
       "layout": {
        "legend": {
         "title": {
          "text": "Car Type"
         }
        },
        "template": {
         "data": {
          "bar": [
           {
            "error_x": {
             "color": "#2a3f5f"
            },
            "error_y": {
             "color": "#2a3f5f"
            },
            "marker": {
             "line": {
              "color": "white",
              "width": 0.5
             },
             "pattern": {
              "fillmode": "overlay",
              "size": 10,
              "solidity": 0.2
             }
            },
            "type": "bar"
           }
          ],
          "barpolar": [
           {
            "marker": {
             "line": {
              "color": "white",
              "width": 0.5
             },
             "pattern": {
              "fillmode": "overlay",
              "size": 10,
              "solidity": 0.2
             }
            },
            "type": "barpolar"
           }
          ],
          "carpet": [
           {
            "aaxis": {
             "endlinecolor": "#2a3f5f",
             "gridcolor": "#C8D4E3",
             "linecolor": "#C8D4E3",
             "minorgridcolor": "#C8D4E3",
             "startlinecolor": "#2a3f5f"
            },
            "baxis": {
             "endlinecolor": "#2a3f5f",
             "gridcolor": "#C8D4E3",
             "linecolor": "#C8D4E3",
             "minorgridcolor": "#C8D4E3",
             "startlinecolor": "#2a3f5f"
            },
            "type": "carpet"
           }
          ],
          "choropleth": [
           {
            "colorbar": {
             "outlinewidth": 0,
             "ticks": ""
            },
            "type": "choropleth"
           }
          ],
          "contour": [
           {
            "colorbar": {
             "outlinewidth": 0,
             "ticks": ""
            },
            "colorscale": [
             [
              0,
              "#0d0887"
             ],
             [
              0.1111111111111111,
              "#46039f"
             ],
             [
              0.2222222222222222,
              "#7201a8"
             ],
             [
              0.3333333333333333,
              "#9c179e"
             ],
             [
              0.4444444444444444,
              "#bd3786"
             ],
             [
              0.5555555555555556,
              "#d8576b"
             ],
             [
              0.6666666666666666,
              "#ed7953"
             ],
             [
              0.7777777777777778,
              "#fb9f3a"
             ],
             [
              0.8888888888888888,
              "#fdca26"
             ],
             [
              1,
              "#f0f921"
             ]
            ],
            "type": "contour"
           }
          ],
          "contourcarpet": [
           {
            "colorbar": {
             "outlinewidth": 0,
             "ticks": ""
            },
            "type": "contourcarpet"
           }
          ],
          "heatmap": [
           {
            "colorbar": {
             "outlinewidth": 0,
             "ticks": ""
            },
            "colorscale": [
             [
              0,
              "#0d0887"
             ],
             [
              0.1111111111111111,
              "#46039f"
             ],
             [
              0.2222222222222222,
              "#7201a8"
             ],
             [
              0.3333333333333333,
              "#9c179e"
             ],
             [
              0.4444444444444444,
              "#bd3786"
             ],
             [
              0.5555555555555556,
              "#d8576b"
             ],
             [
              0.6666666666666666,
              "#ed7953"
             ],
             [
              0.7777777777777778,
              "#fb9f3a"
             ],
             [
              0.8888888888888888,
              "#fdca26"
             ],
             [
              1,
              "#f0f921"
             ]
            ],
            "type": "heatmap"
           }
          ],
          "histogram": [
           {
            "marker": {
             "pattern": {
              "fillmode": "overlay",
              "size": 10,
              "solidity": 0.2
             }
            },
            "type": "histogram"
           }
          ],
          "histogram2d": [
           {
            "colorbar": {
             "outlinewidth": 0,
             "ticks": ""
            },
            "colorscale": [
             [
              0,
              "#0d0887"
             ],
             [
              0.1111111111111111,
              "#46039f"
             ],
             [
              0.2222222222222222,
              "#7201a8"
             ],
             [
              0.3333333333333333,
              "#9c179e"
             ],
             [
              0.4444444444444444,
              "#bd3786"
             ],
             [
              0.5555555555555556,
              "#d8576b"
             ],
             [
              0.6666666666666666,
              "#ed7953"
             ],
             [
              0.7777777777777778,
              "#fb9f3a"
             ],
             [
              0.8888888888888888,
              "#fdca26"
             ],
             [
              1,
              "#f0f921"
             ]
            ],
            "type": "histogram2d"
           }
          ],
          "histogram2dcontour": [
           {
            "colorbar": {
             "outlinewidth": 0,
             "ticks": ""
            },
            "colorscale": [
             [
              0,
              "#0d0887"
             ],
             [
              0.1111111111111111,
              "#46039f"
             ],
             [
              0.2222222222222222,
              "#7201a8"
             ],
             [
              0.3333333333333333,
              "#9c179e"
             ],
             [
              0.4444444444444444,
              "#bd3786"
             ],
             [
              0.5555555555555556,
              "#d8576b"
             ],
             [
              0.6666666666666666,
              "#ed7953"
             ],
             [
              0.7777777777777778,
              "#fb9f3a"
             ],
             [
              0.8888888888888888,
              "#fdca26"
             ],
             [
              1,
              "#f0f921"
             ]
            ],
            "type": "histogram2dcontour"
           }
          ],
          "mesh3d": [
           {
            "colorbar": {
             "outlinewidth": 0,
             "ticks": ""
            },
            "type": "mesh3d"
           }
          ],
          "parcoords": [
           {
            "line": {
             "colorbar": {
              "outlinewidth": 0,
              "ticks": ""
             }
            },
            "type": "parcoords"
           }
          ],
          "pie": [
           {
            "automargin": true,
            "type": "pie"
           }
          ],
          "scatter": [
           {
            "fillpattern": {
             "fillmode": "overlay",
             "size": 10,
             "solidity": 0.2
            },
            "type": "scatter"
           }
          ],
          "scatter3d": [
           {
            "line": {
             "colorbar": {
              "outlinewidth": 0,
              "ticks": ""
             }
            },
            "marker": {
             "colorbar": {
              "outlinewidth": 0,
              "ticks": ""
             }
            },
            "type": "scatter3d"
           }
          ],
          "scattercarpet": [
           {
            "marker": {
             "colorbar": {
              "outlinewidth": 0,
              "ticks": ""
             }
            },
            "type": "scattercarpet"
           }
          ],
          "scattergeo": [
           {
            "marker": {
             "colorbar": {
              "outlinewidth": 0,
              "ticks": ""
             }
            },
            "type": "scattergeo"
           }
          ],
          "scattergl": [
           {
            "marker": {
             "colorbar": {
              "outlinewidth": 0,
              "ticks": ""
             }
            },
            "type": "scattergl"
           }
          ],
          "scattermap": [
           {
            "marker": {
             "colorbar": {
              "outlinewidth": 0,
              "ticks": ""
             }
            },
            "type": "scattermap"
           }
          ],
          "scattermapbox": [
           {
            "marker": {
             "colorbar": {
              "outlinewidth": 0,
              "ticks": ""
             }
            },
            "type": "scattermapbox"
           }
          ],
          "scatterpolar": [
           {
            "marker": {
             "colorbar": {
              "outlinewidth": 0,
              "ticks": ""
             }
            },
            "type": "scatterpolar"
           }
          ],
          "scatterpolargl": [
           {
            "marker": {
             "colorbar": {
              "outlinewidth": 0,
              "ticks": ""
             }
            },
            "type": "scatterpolargl"
           }
          ],
          "scatterternary": [
           {
            "marker": {
             "colorbar": {
              "outlinewidth": 0,
              "ticks": ""
             }
            },
            "type": "scatterternary"
           }
          ],
          "surface": [
           {
            "colorbar": {
             "outlinewidth": 0,
             "ticks": ""
            },
            "colorscale": [
             [
              0,
              "#0d0887"
             ],
             [
              0.1111111111111111,
              "#46039f"
             ],
             [
              0.2222222222222222,
              "#7201a8"
             ],
             [
              0.3333333333333333,
              "#9c179e"
             ],
             [
              0.4444444444444444,
              "#bd3786"
             ],
             [
              0.5555555555555556,
              "#d8576b"
             ],
             [
              0.6666666666666666,
              "#ed7953"
             ],
             [
              0.7777777777777778,
              "#fb9f3a"
             ],
             [
              0.8888888888888888,
              "#fdca26"
             ],
             [
              1,
              "#f0f921"
             ]
            ],
            "type": "surface"
           }
          ],
          "table": [
           {
            "cells": {
             "fill": {
              "color": "#EBF0F8"
             },
             "line": {
              "color": "white"
             }
            },
            "header": {
             "fill": {
              "color": "#C8D4E3"
             },
             "line": {
              "color": "white"
             }
            },
            "type": "table"
           }
          ]
         },
         "layout": {
          "annotationdefaults": {
           "arrowcolor": "#2a3f5f",
           "arrowhead": 0,
           "arrowwidth": 1
          },
          "autotypenumbers": "strict",
          "coloraxis": {
           "colorbar": {
            "outlinewidth": 0,
            "ticks": ""
           }
          },
          "colorscale": {
           "diverging": [
            [
             0,
             "#8e0152"
            ],
            [
             0.1,
             "#c51b7d"
            ],
            [
             0.2,
             "#de77ae"
            ],
            [
             0.3,
             "#f1b6da"
            ],
            [
             0.4,
             "#fde0ef"
            ],
            [
             0.5,
             "#f7f7f7"
            ],
            [
             0.6,
             "#e6f5d0"
            ],
            [
             0.7,
             "#b8e186"
            ],
            [
             0.8,
             "#7fbc41"
            ],
            [
             0.9,
             "#4d9221"
            ],
            [
             1,
             "#276419"
            ]
           ],
           "sequential": [
            [
             0,
             "#0d0887"
            ],
            [
             0.1111111111111111,
             "#46039f"
            ],
            [
             0.2222222222222222,
             "#7201a8"
            ],
            [
             0.3333333333333333,
             "#9c179e"
            ],
            [
             0.4444444444444444,
             "#bd3786"
            ],
            [
             0.5555555555555556,
             "#d8576b"
            ],
            [
             0.6666666666666666,
             "#ed7953"
            ],
            [
             0.7777777777777778,
             "#fb9f3a"
            ],
            [
             0.8888888888888888,
             "#fdca26"
            ],
            [
             1,
             "#f0f921"
            ]
           ],
           "sequentialminus": [
            [
             0,
             "#0d0887"
            ],
            [
             0.1111111111111111,
             "#46039f"
            ],
            [
             0.2222222222222222,
             "#7201a8"
            ],
            [
             0.3333333333333333,
             "#9c179e"
            ],
            [
             0.4444444444444444,
             "#bd3786"
            ],
            [
             0.5555555555555556,
             "#d8576b"
            ],
            [
             0.6666666666666666,
             "#ed7953"
            ],
            [
             0.7777777777777778,
             "#fb9f3a"
            ],
            [
             0.8888888888888888,
             "#fdca26"
            ],
            [
             1,
             "#f0f921"
            ]
           ]
          },
          "colorway": [
           "#636efa",
           "#EF553B",
           "#00cc96",
           "#ab63fa",
           "#FFA15A",
           "#19d3f3",
           "#FF6692",
           "#B6E880",
           "#FF97FF",
           "#FECB52"
          ],
          "font": {
           "color": "#2a3f5f"
          },
          "geo": {
           "bgcolor": "white",
           "lakecolor": "white",
           "landcolor": "white",
           "showlakes": true,
           "showland": true,
           "subunitcolor": "#C8D4E3"
          },
          "hoverlabel": {
           "align": "left"
          },
          "hovermode": "closest",
          "mapbox": {
           "style": "light"
          },
          "paper_bgcolor": "white",
          "plot_bgcolor": "white",
          "polar": {
           "angularaxis": {
            "gridcolor": "#EBF0F8",
            "linecolor": "#EBF0F8",
            "ticks": ""
           },
           "bgcolor": "white",
           "radialaxis": {
            "gridcolor": "#EBF0F8",
            "linecolor": "#EBF0F8",
            "ticks": ""
           }
          },
          "scene": {
           "xaxis": {
            "backgroundcolor": "white",
            "gridcolor": "#DFE8F3",
            "gridwidth": 2,
            "linecolor": "#EBF0F8",
            "showbackground": true,
            "ticks": "",
            "zerolinecolor": "#EBF0F8"
           },
           "yaxis": {
            "backgroundcolor": "white",
            "gridcolor": "#DFE8F3",
            "gridwidth": 2,
            "linecolor": "#EBF0F8",
            "showbackground": true,
            "ticks": "",
            "zerolinecolor": "#EBF0F8"
           },
           "zaxis": {
            "backgroundcolor": "white",
            "gridcolor": "#DFE8F3",
            "gridwidth": 2,
            "linecolor": "#EBF0F8",
            "showbackground": true,
            "ticks": "",
            "zerolinecolor": "#EBF0F8"
           }
          },
          "shapedefaults": {
           "line": {
            "color": "#2a3f5f"
           }
          },
          "ternary": {
           "aaxis": {
            "gridcolor": "#DFE8F3",
            "linecolor": "#A2B1C6",
            "ticks": ""
           },
           "baxis": {
            "gridcolor": "#DFE8F3",
            "linecolor": "#A2B1C6",
            "ticks": ""
           },
           "bgcolor": "white",
           "caxis": {
            "gridcolor": "#DFE8F3",
            "linecolor": "#A2B1C6",
            "ticks": ""
           }
          },
          "title": {
           "x": 0.05
          },
          "xaxis": {
           "automargin": true,
           "gridcolor": "#EBF0F8",
           "linecolor": "#EBF0F8",
           "ticks": "",
           "title": {
            "standoff": 15
           },
           "zerolinecolor": "#EBF0F8",
           "zerolinewidth": 2
          },
          "yaxis": {
           "automargin": true,
           "gridcolor": "#EBF0F8",
           "linecolor": "#EBF0F8",
           "ticks": "",
           "title": {
            "standoff": 15
           },
           "zerolinecolor": "#EBF0F8",
           "zerolinewidth": 2
          }
         }
        },
        "title": {
         "text": "Predicted Survival Curve for 10 Newly Arrived Vehicles - Example"
        },
        "xaxis": {
         "dtick": 5,
         "gridcolor": "lightgray",
         "title": {
          "text": "Weeks on Stock"
         }
        },
        "yaxis": {
         "dtick": 0.1,
         "gridcolor": "lightgray",
         "title": {
          "text": "Probability of Vehicle Stock Retention"
         }
        }
       }
      }
     },
     "metadata": {},
     "output_type": "display_data"
    }
   ],
   "source": [
    "# Load the best model\n",
    "best_model = joblib.load(\"best_survival_model.pkl\")\n",
    "\n",
    "# Predict on test set and compute survival probabilities\n",
    "y_pred = best_model.predict(X_test)  \n",
    "y_pred_surv_prob = best_model.predict_survival_function(X_test, return_array=True)\n",
    "\n",
    "# Compute the concordance index\n",
    "c_index = concordance_index_censored(y_test[\"Status\"], y_test[\"Time\"], y_pred)[0]\n",
    "print(f\"Concordance Index on the test dataset: {c_index:.4f}\")\n",
    "\n",
    "# Restore Car_Type column from one-hot encoded features\n",
    "cars_columns = [col for col in X_test.columns if col.startswith(\"Cars=\")]\n",
    "X_test[\"Car_Type\"] = X_test[cars_columns].idxmax(axis=1).str.replace(\"Cars=\", \"\")\n",
    "\n",
    "# Create a survival probability dataframe\n",
    "df_surv = pd.DataFrame(y_pred_surv_prob, columns=[f\"Week {i+1}\" for i in range(y_pred_surv_prob.shape[1])])\n",
    "df_surv.insert(0, \"Car_Type\", X_test[\"Car_Type\"].values)  # Insert car names\n",
    "\n",
    "\n",
    "# Plot survival curves for the first 10 cars\n",
    "fig = go.Figure()\n",
    "\n",
    "for i in range(min(10, len(X_test))):\n",
    "    fig.add_trace(go.Scatter(\n",
    "        x=time_points, \n",
    "        y=y_pred_surv_prob[i], \n",
    "        mode='lines', \n",
    "        name=df_surv[\"Car_Type\"].iloc[i],  # Ovo ostaje za legendu\n",
    "        hovertemplate=\"Car Type: \" + df_surv[\"Car_Type\"].iloc[i] + \"<br>Weeks on Stock: %{x}<br>Probability: %{y:.2f}\"\n",
    "    ))\n",
    "\n",
    "fig.update_layout(\n",
    "    title=\"Predicted Survival Curve for 10 Newly Arrived Vehicles - Example\",\n",
    "    xaxis_title=\"Weeks on Stock\",\n",
    "    yaxis_title=\"Probability of Vehicle Stock Retention\",\n",
    "    legend_title=\"Car Type\",\n",
    "    xaxis=dict(dtick=5, gridcolor='lightgray'),\n",
    "    yaxis=dict(dtick=0.1, gridcolor='lightgray'),\n",
    "    template=\"plotly_white\"\n",
    ")\n",
    "\n",
    "fig.show()\n",
    "\n",
    "# Remove Car_Type from X_test\n",
    "X_test.drop(columns=[\"Car_Type\"], inplace=True)\n"
   ]
  }
 ],
 "metadata": {
  "kernelspec": {
   "display_name": "Python 3",
   "language": "python",
   "name": "python3"
  },
  "language_info": {
   "codemirror_mode": {
    "name": "ipython",
    "version": 3
   },
   "file_extension": ".py",
   "mimetype": "text/x-python",
   "name": "python",
   "nbconvert_exporter": "python",
   "pygments_lexer": "ipython3",
   "version": "3.11.3"
  }
 },
 "nbformat": 4,
 "nbformat_minor": 2
}
